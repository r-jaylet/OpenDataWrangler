{
 "cells": [
  {
   "cell_type": "code",
   "execution_count": 1,
   "metadata": {},
   "outputs": [],
   "source": [
    "import sys\n",
    "import wget\n",
    "sys.path.append('\\OpenDataWrangler')"
   ]
  },
  {
   "cell_type": "code",
   "execution_count": 3,
   "metadata": {},
   "outputs": [],
   "source": [
    "from parser_siren import Siren\n",
    "from parser_copro import Copro"
   ]
  },
  {
   "cell_type": "code",
   "execution_count": 4,
   "metadata": {},
   "outputs": [
    {
     "name": "stderr",
     "output_type": "stream",
     "text": [
      "INFO:root:Process copro\n",
      "INFO:root:Copro already downloaded\n",
      "INFO:root:Upload Copro\n",
      "c:\\Users\\RémiJAYLET\\Documents\\OpenDataWrangler\\parser_copro.py:66: DtypeWarning: Columns (42,43,47,50) have mixed types. Specify dtype option on import or set low_memory=False.\n",
      "  copro_df = pd.read_csv(path_file,\n",
      "INFO:root:Processing Copro\n"
     ]
    }
   ],
   "source": [
    "copro = Copro(r\"C:\\Users\\RémiJAYLET\\Documents\\City&You\\0_data\", \"rnc-data-gouv-with-qpv.csv\")"
   ]
  },
  {
   "cell_type": "code",
   "execution_count": 5,
   "metadata": {},
   "outputs": [],
   "source": [
    "copro_df = copro.get_copro_df()"
   ]
  },
  {
   "cell_type": "code",
   "execution_count": 3,
   "metadata": {},
   "outputs": [
    {
     "name": "stderr",
     "output_type": "stream",
     "text": [
      "INFO:root:Process SIREN\n",
      "INFO:root:Siren already downloaded\n",
      "INFO:root:Upload Siren\n",
      "INFO:root:Processing Siren\n"
     ]
    }
   ],
   "source": [
    "siren = Siren(r\"C:\\Users\\RémiJAYLET\\Documents\\City&You\\0_data\", \"StockUniteLegale_utf8.csv\")"
   ]
  },
  {
   "cell_type": "code",
   "execution_count": 4,
   "metadata": {},
   "outputs": [],
   "source": [
    "siren_df = siren.get_siren_df()"
   ]
  }
 ],
 "metadata": {
  "kernelspec": {
   "display_name": "Python 3",
   "language": "python",
   "name": "python3"
  },
  "language_info": {
   "codemirror_mode": {
    "name": "ipython",
    "version": 3
   },
   "file_extension": ".py",
   "mimetype": "text/x-python",
   "name": "python",
   "nbconvert_exporter": "python",
   "pygments_lexer": "ipython3",
   "version": "3.11.3"
  },
  "orig_nbformat": 4
 },
 "nbformat": 4,
 "nbformat_minor": 2
}
