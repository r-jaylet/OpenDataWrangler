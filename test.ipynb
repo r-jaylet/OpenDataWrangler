{
 "cells": [
  {
   "cell_type": "code",
   "execution_count": 1,
   "metadata": {},
   "outputs": [],
   "source": [
    "import sys\n",
    "import wget\n",
    "import os\n",
    "import requests\n",
    "import zipfile\n",
    "import time\n",
    "sys.path.append('\\OpenDataWrangler')"
   ]
  },
  {
   "cell_type": "code",
   "execution_count": 2,
   "metadata": {},
   "outputs": [],
   "source": [
    "from utils.utils_bodacc import download_file_bodacc_api"
   ]
  },
  {
   "cell_type": "code",
   "execution_count": 3,
   "metadata": {},
   "outputs": [],
   "source": [
    "from parser_siren import Siren\n",
    "from parser_copro import Copro\n",
    "from parser_siren import Siren\n",
    "from parser_majic_locaux import Locaux\n",
    "from parser_bdnb import Bdnb\n"
   ]
  },
  {
   "cell_type": "code",
   "execution_count": 3,
   "metadata": {},
   "outputs": [
    {
     "name": "stderr",
     "output_type": "stream",
     "text": [
      "INFO:root:Process SIREN\n",
      "INFO:root:Siren already downloaded\n",
      "INFO:root:Upload Siren\n",
      "INFO:root:Processing Siren\n"
     ]
    }
   ],
   "source": [
    "siren = Siren(r\"C:\\Users\\RémiJAYLET\\Documents\\City&You\\0_data\", \"StockUniteLegale_utf8.csv\")\n"
   ]
  },
  {
   "cell_type": "code",
   "execution_count": 4,
   "metadata": {},
   "outputs": [],
   "source": [
    "import logging\n",
    "import pandas as pd\n",
    "import os\n",
    "import sys\n",
    "from selenium import webdriver\n",
    "from webdriver_manager.chrome import ChromeDriverManager\n",
    "from selenium.webdriver.common.by import By"
   ]
  },
  {
   "cell_type": "code",
   "execution_count": 4,
   "metadata": {},
   "outputs": [],
   "source": [
    "z = download_file_bodacc_api(path_root=r\"C:\\Users\\RémiJAYLET\\Documents\\City&You\\0_data\",\n",
    "                     publicationavis='A',\n",
    "                     typeavis='annonce',\n",
    "                     familleavis='creation',\n",
    "                     numerodepartement='38')"
   ]
  },
  {
   "cell_type": "code",
   "execution_count": 5,
   "metadata": {},
   "outputs": [
    {
     "data": {
      "text/html": [
       "<div>\n",
       "<style scoped>\n",
       "    .dataframe tbody tr th:only-of-type {\n",
       "        vertical-align: middle;\n",
       "    }\n",
       "\n",
       "    .dataframe tbody tr th {\n",
       "        vertical-align: top;\n",
       "    }\n",
       "\n",
       "    .dataframe thead th {\n",
       "        text-align: right;\n",
       "    }\n",
       "</style>\n",
       "<table border=\"1\" class=\"dataframe\">\n",
       "  <thead>\n",
       "    <tr style=\"text-align: right;\">\n",
       "      <th></th>\n",
       "      <th>datasetid</th>\n",
       "      <th>recordid</th>\n",
       "      <th>fields</th>\n",
       "      <th>record_timestamp</th>\n",
       "    </tr>\n",
       "  </thead>\n",
       "  <tbody>\n",
       "    <tr>\n",
       "      <th>0</th>\n",
       "      <td>annonces-commerciales</td>\n",
       "      <td>93a96c734b54840f89bbde18caedc87874015fd3</td>\n",
       "      <td>{'publicationavis': 'A', 'listepersonnes': '{\"...</td>\n",
       "      <td>2023-07-12T03:01:00Z</td>\n",
       "    </tr>\n",
       "    <tr>\n",
       "      <th>1</th>\n",
       "      <td>annonces-commerciales</td>\n",
       "      <td>660d5bbd8395e757b063b19213337ffe64f2b045</td>\n",
       "      <td>{'publicationavis': 'A', 'listepersonnes': '{\"...</td>\n",
       "      <td>2023-07-12T03:01:00Z</td>\n",
       "    </tr>\n",
       "    <tr>\n",
       "      <th>2</th>\n",
       "      <td>annonces-commerciales</td>\n",
       "      <td>0ead7e31ec347e3661aac96d36a5359932908dab</td>\n",
       "      <td>{'publicationavis': 'A', 'listepersonnes': '{\"...</td>\n",
       "      <td>2023-07-12T03:01:00Z</td>\n",
       "    </tr>\n",
       "    <tr>\n",
       "      <th>3</th>\n",
       "      <td>annonces-commerciales</td>\n",
       "      <td>f7f5c22faf1bdf74c48a4b0234e454da156cf4f0</td>\n",
       "      <td>{'publicationavis': 'A', 'listepersonnes': '{\"...</td>\n",
       "      <td>2023-07-12T03:01:00Z</td>\n",
       "    </tr>\n",
       "    <tr>\n",
       "      <th>4</th>\n",
       "      <td>annonces-commerciales</td>\n",
       "      <td>f974f5de2fff9942334da5b8000324338f955acf</td>\n",
       "      <td>{'publicationavis': 'A', 'listepersonnes': '{\"...</td>\n",
       "      <td>2023-07-12T03:01:00Z</td>\n",
       "    </tr>\n",
       "    <tr>\n",
       "      <th>...</th>\n",
       "      <td>...</td>\n",
       "      <td>...</td>\n",
       "      <td>...</td>\n",
       "      <td>...</td>\n",
       "    </tr>\n",
       "    <tr>\n",
       "      <th>9995</th>\n",
       "      <td>annonces-commerciales</td>\n",
       "      <td>633b5143ffbdb29253ccf46ebf99c7efec373333</td>\n",
       "      <td>{'publicationavis': 'A', 'listepersonnes': '{\"...</td>\n",
       "      <td>2022-04-01T03:06:00Z</td>\n",
       "    </tr>\n",
       "    <tr>\n",
       "      <th>9996</th>\n",
       "      <td>annonces-commerciales</td>\n",
       "      <td>c04dbba7845937dc536d3dc1c6f3ad135771ad3d</td>\n",
       "      <td>{'publicationavis': 'A', 'listepersonnes': '{\"...</td>\n",
       "      <td>2022-04-01T03:06:00Z</td>\n",
       "    </tr>\n",
       "    <tr>\n",
       "      <th>9997</th>\n",
       "      <td>annonces-commerciales</td>\n",
       "      <td>089864a802a99349e2270e56d1859b33f038e6eb</td>\n",
       "      <td>{'publicationavis': 'A', 'listepersonnes': '{\"...</td>\n",
       "      <td>2022-04-01T03:06:00Z</td>\n",
       "    </tr>\n",
       "    <tr>\n",
       "      <th>9998</th>\n",
       "      <td>annonces-commerciales</td>\n",
       "      <td>338becdcb43147bc53782e8474b877eccfcacc2e</td>\n",
       "      <td>{'publicationavis': 'A', 'listepersonnes': '{\"...</td>\n",
       "      <td>2022-04-01T03:06:00Z</td>\n",
       "    </tr>\n",
       "    <tr>\n",
       "      <th>9999</th>\n",
       "      <td>annonces-commerciales</td>\n",
       "      <td>4bfa4a9747b805e6bd3e782e9b8c8a9384f34c2c</td>\n",
       "      <td>{'publicationavis': 'A', 'listepersonnes': '{\"...</td>\n",
       "      <td>2022-04-01T03:06:00Z</td>\n",
       "    </tr>\n",
       "  </tbody>\n",
       "</table>\n",
       "<p>10000 rows × 4 columns</p>\n",
       "</div>"
      ],
      "text/plain": [
       "                  datasetid                                  recordid   \n",
       "0     annonces-commerciales  93a96c734b54840f89bbde18caedc87874015fd3  \\\n",
       "1     annonces-commerciales  660d5bbd8395e757b063b19213337ffe64f2b045   \n",
       "2     annonces-commerciales  0ead7e31ec347e3661aac96d36a5359932908dab   \n",
       "3     annonces-commerciales  f7f5c22faf1bdf74c48a4b0234e454da156cf4f0   \n",
       "4     annonces-commerciales  f974f5de2fff9942334da5b8000324338f955acf   \n",
       "...                     ...                                       ...   \n",
       "9995  annonces-commerciales  633b5143ffbdb29253ccf46ebf99c7efec373333   \n",
       "9996  annonces-commerciales  c04dbba7845937dc536d3dc1c6f3ad135771ad3d   \n",
       "9997  annonces-commerciales  089864a802a99349e2270e56d1859b33f038e6eb   \n",
       "9998  annonces-commerciales  338becdcb43147bc53782e8474b877eccfcacc2e   \n",
       "9999  annonces-commerciales  4bfa4a9747b805e6bd3e782e9b8c8a9384f34c2c   \n",
       "\n",
       "                                                 fields      record_timestamp  \n",
       "0     {'publicationavis': 'A', 'listepersonnes': '{\"...  2023-07-12T03:01:00Z  \n",
       "1     {'publicationavis': 'A', 'listepersonnes': '{\"...  2023-07-12T03:01:00Z  \n",
       "2     {'publicationavis': 'A', 'listepersonnes': '{\"...  2023-07-12T03:01:00Z  \n",
       "3     {'publicationavis': 'A', 'listepersonnes': '{\"...  2023-07-12T03:01:00Z  \n",
       "4     {'publicationavis': 'A', 'listepersonnes': '{\"...  2023-07-12T03:01:00Z  \n",
       "...                                                 ...                   ...  \n",
       "9995  {'publicationavis': 'A', 'listepersonnes': '{\"...  2022-04-01T03:06:00Z  \n",
       "9996  {'publicationavis': 'A', 'listepersonnes': '{\"...  2022-04-01T03:06:00Z  \n",
       "9997  {'publicationavis': 'A', 'listepersonnes': '{\"...  2022-04-01T03:06:00Z  \n",
       "9998  {'publicationavis': 'A', 'listepersonnes': '{\"...  2022-04-01T03:06:00Z  \n",
       "9999  {'publicationavis': 'A', 'listepersonnes': '{\"...  2022-04-01T03:06:00Z  \n",
       "\n",
       "[10000 rows x 4 columns]"
      ]
     },
     "execution_count": 5,
     "metadata": {},
     "output_type": "execute_result"
    }
   ],
   "source": [
    "z"
   ]
  },
  {
   "cell_type": "code",
   "execution_count": null,
   "metadata": {},
   "outputs": [],
   "source": []
  }
 ],
 "metadata": {
  "kernelspec": {
   "display_name": "Python 3",
   "language": "python",
   "name": "python3"
  },
  "language_info": {
   "codemirror_mode": {
    "name": "ipython",
    "version": 3
   },
   "file_extension": ".py",
   "mimetype": "text/x-python",
   "name": "python",
   "nbconvert_exporter": "python",
   "pygments_lexer": "ipython3",
   "version": "3.11.3"
  },
  "orig_nbformat": 4
 },
 "nbformat": 4,
 "nbformat_minor": 2
}
