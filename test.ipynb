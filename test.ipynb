{
 "cells": [
  {
   "cell_type": "code",
   "execution_count": 1,
   "metadata": {},
   "outputs": [],
   "source": [
    "import sys\n",
    "sys.path.append('\\OpenDataWrangler')"
   ]
  },
  {
   "cell_type": "code",
   "execution_count": 2,
   "metadata": {},
   "outputs": [],
   "source": [
    "from parser_siren import Siren\n",
    "from parser_siret import Siret"
   ]
  },
  {
   "cell_type": "code",
   "execution_count": null,
   "metadata": {},
   "outputs": [],
   "source": [
    "def check_document(file_path, document):\n",
    "    \"\"\"\n",
    "    Checks if a document is present in a file. If not, triggers the 'download()' function.\n",
    "\n",
    "    Args:\n",
    "        file_path (str): Path to the file.\n",
    "        document (str): Name of the document to check.\n",
    "\n",
    "    Returns:\n",
    "        bool: True if the document is present, False otherwise.\n",
    "    \"\"\"\n",
    "    try:\n",
    "        with open(file_path, 'r') as file:\n",
    "            if document in file.read():\n",
    "                return True\n",
    "            else:\n",
    "                download()\n",
    "                return False\n",
    "    except FileNotFoundError:\n",
    "        download()\n",
    "        return False\n"
   ]
  },
  {
   "cell_type": "code",
   "execution_count": null,
   "metadata": {},
   "outputs": [],
   "source": [
    "def verifier_document(fichier, document):\n",
    "    \"\"\"\n",
    "    Vérifie si un document est présent dans un fichier. Si non, déclenche la fonction 'telechargement()'.\n",
    "\n",
    "    Args:\n",
    "        fichier (str): Chemin vers le fichier.\n",
    "        document (str): Nom du document à vérifier.\n",
    "\n",
    "    Returns:\n",
    "        bool: True si le document est présent, False sinon.\n",
    "    \"\"\"\n",
    "    try:\n",
    "        with open(fichier, 'r') as file:\n",
    "            if document in file.read():\n",
    "                return True\n",
    "            else:\n",
    "                telechargement()\n",
    "                return False\n",
    "    except FileNotFoundError:\n",
    "        telechargement()\n",
    "        return False\n"
   ]
  }
 ],
 "metadata": {
  "kernelspec": {
   "display_name": "Python 3",
   "language": "python",
   "name": "python3"
  },
  "language_info": {
   "codemirror_mode": {
    "name": "ipython",
    "version": 3
   },
   "file_extension": ".py",
   "mimetype": "text/x-python",
   "name": "python",
   "nbconvert_exporter": "python",
   "pygments_lexer": "ipython3",
   "version": "3.11.3"
  },
  "orig_nbformat": 4
 },
 "nbformat": 4,
 "nbformat_minor": 2
}
