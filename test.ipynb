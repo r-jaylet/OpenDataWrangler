{
 "cells": [
  {
   "cell_type": "code",
   "execution_count": 1,
   "metadata": {},
   "outputs": [],
   "source": [
    "import sys\n",
    "import wget\n",
    "import os\n",
    "import requests\n",
    "import zipfile\n",
    "sys.path.append('\\OpenDataWrangler')"
   ]
  },
  {
   "cell_type": "code",
   "execution_count": 1,
   "metadata": {},
   "outputs": [],
   "source": [
    "from parser_siren import Siren\n",
    "from parser_copro import Copro\n",
    "from parser_siren import Siren\n",
    "from parser_majic_locaux import Locaux\n",
    "from parser_bdnb import BDNB"
   ]
  },
  {
   "cell_type": "code",
   "execution_count": 2,
   "metadata": {},
   "outputs": [
    {
     "name": "stderr",
     "output_type": "stream",
     "text": [
      "INFO:root:Select BDNB file\n",
      "INFO:root:['adresse.csv', 'adresse_metrique.csv', 'batiment_construction.csv', 'batiment_groupe.csv', 'batiment_groupe_adresse.csv', 'batiment_groupe_argiles.csv', 'batiment_groupe_bdtopo_bat.csv', 'batiment_groupe_bdtopo_equ.csv', 'batiment_groupe_bdtopo_zoac.csv', 'batiment_groupe_bpe.csv', 'batiment_groupe_dle_elec_2020.csv', 'batiment_groupe_dle_gaz_2020.csv', 'batiment_groupe_dle_reseaux_2020.csv', 'batiment_groupe_dpe.csv', 'batiment_groupe_dpe_logtype.csv', 'batiment_groupe_dpe_representatif_logement.csv', 'batiment_groupe_dpe_statistique_logement.csv', 'batiment_groupe_ffo_bat.csv', 'batiment_groupe_geospx.csv', 'batiment_groupe_hthd.csv', 'batiment_groupe_merimee.csv', 'batiment_groupe_qpv.csv', 'batiment_groupe_radon.csv', 'batiment_groupe_rnc.csv', 'dpe_logement.csv', 'parcelle.csv', 'proprietaire.csv', 'rel_batiment_groupe_adresse.csv', 'rel_batiment_groupe_bdtopo_bat.csv', 'rel_batiment_groupe_bdtopo_equ.csv', 'rel_batiment_groupe_bdtopo_zoa.csv', 'rel_batiment_groupe_bpe.csv', 'rel_batiment_groupe_dpe_logement.csv', 'rel_batiment_groupe_merimee.csv', 'rel_batiment_groupe_parcelle.csv', 'rel_batiment_groupe_proprietaire.csv', 'rel_batiment_groupe_qpv.csv', 'rel_batiment_groupe_rnc.csv']\n"
     ]
    },
    {
     "name": "stdout",
     "output_type": "stream",
     "text": [
      "choose file name : \n"
     ]
    }
   ],
   "source": [
    "bdnd = BDNB(path_root=r\"C:\\Users\\RémiJAYLET\\Documents\\City&You\\0_data\")"
   ]
  },
  {
   "cell_type": "code",
   "execution_count": 4,
   "metadata": {},
   "outputs": [
    {
     "data": {
      "text/plain": [
       "['adresse.csv',\n",
       " 'adresse_metrique.csv',\n",
       " 'batiment_construction.csv',\n",
       " 'batiment_groupe.csv',\n",
       " 'batiment_groupe_adresse.csv',\n",
       " 'batiment_groupe_argiles.csv',\n",
       " 'batiment_groupe_bdtopo_bat.csv',\n",
       " 'batiment_groupe_bdtopo_equ.csv',\n",
       " 'batiment_groupe_bdtopo_zoac.csv',\n",
       " 'batiment_groupe_bpe.csv',\n",
       " 'batiment_groupe_dle_elec_2020.csv',\n",
       " 'batiment_groupe_dle_gaz_2020.csv',\n",
       " 'batiment_groupe_dle_reseaux_2020.csv',\n",
       " 'batiment_groupe_dpe.csv',\n",
       " 'batiment_groupe_dpe_logtype.csv',\n",
       " 'batiment_groupe_dpe_representatif_logement.csv',\n",
       " 'batiment_groupe_dpe_statistique_logement.csv',\n",
       " 'batiment_groupe_ffo_bat.csv',\n",
       " 'batiment_groupe_geospx.csv',\n",
       " 'batiment_groupe_hthd.csv',\n",
       " 'batiment_groupe_merimee.csv',\n",
       " 'batiment_groupe_qpv.csv',\n",
       " 'batiment_groupe_radon.csv',\n",
       " 'batiment_groupe_rnc.csv',\n",
       " 'dpe_logement.csv',\n",
       " 'parcelle.csv',\n",
       " 'proprietaire.csv',\n",
       " 'rel_batiment_groupe_adresse.csv',\n",
       " 'rel_batiment_groupe_bdtopo_bat.csv',\n",
       " 'rel_batiment_groupe_bdtopo_equ.csv',\n",
       " 'rel_batiment_groupe_bdtopo_zoa.csv',\n",
       " 'rel_batiment_groupe_bpe.csv',\n",
       " 'rel_batiment_groupe_dpe_logement.csv',\n",
       " 'rel_batiment_groupe_merimee.csv',\n",
       " 'rel_batiment_groupe_parcelle.csv',\n",
       " 'rel_batiment_groupe_proprietaire.csv',\n",
       " 'rel_batiment_groupe_qpv.csv',\n",
       " 'rel_batiment_groupe_rnc.csv']"
      ]
     },
     "execution_count": 4,
     "metadata": {},
     "output_type": "execute_result"
    }
   ],
   "source": [
    "extract_name_files_bdnb(r\"C:\\Users\\RémiJAYLET\\Documents\\City&You\\0_data\")"
   ]
  },
  {
   "cell_type": "code",
   "execution_count": 5,
   "metadata": {},
   "outputs": [],
   "source": [
    "\n",
    "df = extract_file_bdndb(r\"C:\\Users\\RémiJAYLET\\Documents\\City&You\\0_data\", \"proprietaire.csv\")"
   ]
  },
  {
   "cell_type": "code",
   "execution_count": 10,
   "metadata": {},
   "outputs": [
    {
     "data": {
      "text/html": [
       "<div>\n",
       "<style scoped>\n",
       "    .dataframe tbody tr th:only-of-type {\n",
       "        vertical-align: middle;\n",
       "    }\n",
       "\n",
       "    .dataframe tbody tr th {\n",
       "        vertical-align: top;\n",
       "    }\n",
       "\n",
       "    .dataframe thead th {\n",
       "        text-align: right;\n",
       "    }\n",
       "</style>\n",
       "<table border=\"1\" class=\"dataframe\">\n",
       "  <thead>\n",
       "    <tr style=\"text-align: right;\">\n",
       "      <th></th>\n",
       "      <th>personne_id</th>\n",
       "      <th>siren</th>\n",
       "      <th>code_departement_insee</th>\n",
       "      <th>forme_juridique</th>\n",
       "      <th>denomination</th>\n",
       "      <th>code_postal</th>\n",
       "      <th>libelle_commune</th>\n",
       "      <th>dans_majic_pm</th>\n",
       "      <th>nb_locaux_open</th>\n",
       "    </tr>\n",
       "  </thead>\n",
       "  <tbody>\n",
       "    <tr>\n",
       "      <th>0</th>\n",
       "      <td>01P9957D</td>\n",
       "      <td>602017931</td>\n",
       "      <td>1</td>\n",
       "      <td>SA</td>\n",
       "      <td>POSTE HABITAT RHONE-ALPES</td>\n",
       "      <td>69002</td>\n",
       "      <td>LYON</td>\n",
       "      <td>1</td>\n",
       "      <td>166</td>\n",
       "    </tr>\n",
       "    <tr>\n",
       "      <th>1</th>\n",
       "      <td>01P9959B</td>\n",
       "      <td>413464595</td>\n",
       "      <td>1</td>\n",
       "      <td>SAS</td>\n",
       "      <td>SAICA PACK EL</td>\n",
       "      <td>1100</td>\n",
       "      <td>OYONNAX</td>\n",
       "      <td>1</td>\n",
       "      <td>2</td>\n",
       "    </tr>\n",
       "    <tr>\n",
       "      <th>2</th>\n",
       "      <td>01P995XC</td>\n",
       "      <td>470801168</td>\n",
       "      <td>1</td>\n",
       "      <td>SEM</td>\n",
       "      <td>CDC HABITAT</td>\n",
       "      <td>75013</td>\n",
       "      <td>PARIS</td>\n",
       "      <td>1</td>\n",
       "      <td>496</td>\n",
       "    </tr>\n",
       "    <tr>\n",
       "      <th>3</th>\n",
       "      <td>01P995ZC</td>\n",
       "      <td>450776968</td>\n",
       "      <td>1</td>\n",
       "      <td>SAS</td>\n",
       "      <td>LOXAM</td>\n",
       "      <td>56850</td>\n",
       "      <td>CAUDAN</td>\n",
       "      <td>1</td>\n",
       "      <td>2</td>\n",
       "    </tr>\n",
       "    <tr>\n",
       "      <th>4</th>\n",
       "      <td>01P995ZM</td>\n",
       "      <td>428593230</td>\n",
       "      <td>1</td>\n",
       "      <td>SAS</td>\n",
       "      <td>NEXANS FRANCE</td>\n",
       "      <td>92400</td>\n",
       "      <td>COURBEVOIE</td>\n",
       "      <td>1</td>\n",
       "      <td>6</td>\n",
       "    </tr>\n",
       "  </tbody>\n",
       "</table>\n",
       "</div>"
      ],
      "text/plain": [
       "  personne_id      siren  code_departement_insee forme_juridique   \n",
       "0    01P9957D  602017931                       1              SA  \\\n",
       "1    01P9959B  413464595                       1             SAS   \n",
       "2    01P995XC  470801168                       1             SEM   \n",
       "3    01P995ZC  450776968                       1             SAS   \n",
       "4    01P995ZM  428593230                       1             SAS   \n",
       "\n",
       "                denomination  code_postal libelle_commune  dans_majic_pm   \n",
       "0  POSTE HABITAT RHONE-ALPES        69002            LYON              1  \\\n",
       "1              SAICA PACK EL         1100         OYONNAX              1   \n",
       "2                CDC HABITAT        75013           PARIS              1   \n",
       "3                      LOXAM        56850          CAUDAN              1   \n",
       "4              NEXANS FRANCE        92400      COURBEVOIE              1   \n",
       "\n",
       "   nb_locaux_open  \n",
       "0             166  \n",
       "1               2  \n",
       "2             496  \n",
       "3               2  \n",
       "4               6  "
      ]
     },
     "execution_count": 10,
     "metadata": {},
     "output_type": "execute_result"
    }
   ],
   "source": [
    "df"
   ]
  },
  {
   "cell_type": "code",
   "execution_count": 3,
   "metadata": {},
   "outputs": [
    {
     "name": "stderr",
     "output_type": "stream",
     "text": [
      "INFO:root:Process SIREN\n",
      "INFO:root:Siren already downloaded\n",
      "INFO:root:Upload Siren\n",
      "INFO:root:Processing Siren\n"
     ]
    }
   ],
   "source": [
    "siren = Siren(r\"C:\\Users\\RémiJAYLET\\Documents\\City&You\\0_data\", \"StockUniteLegale_utf8.csv\")"
   ]
  }
 ],
 "metadata": {
  "kernelspec": {
   "display_name": "Python 3",
   "language": "python",
   "name": "python3"
  },
  "language_info": {
   "codemirror_mode": {
    "name": "ipython",
    "version": 3
   },
   "file_extension": ".py",
   "mimetype": "text/x-python",
   "name": "python",
   "nbconvert_exporter": "python",
   "pygments_lexer": "ipython3",
   "version": "3.11.3"
  },
  "orig_nbformat": 4
 },
 "nbformat": 4,
 "nbformat_minor": 2
}
