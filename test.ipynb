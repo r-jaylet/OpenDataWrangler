{
 "cells": [
  {
   "cell_type": "code",
   "execution_count": 1,
   "metadata": {},
   "outputs": [],
   "source": [
    "import sys\n",
    "sys.path.append('\\OpenDataWrangler')"
   ]
  },
  {
   "cell_type": "code",
   "execution_count": 2,
   "metadata": {},
   "outputs": [],
   "source": [
    "from parser_siren import Siren\n",
    "from parser_siret import Siret"
   ]
  },
  {
   "cell_type": "code",
   "execution_count": 12,
   "metadata": {},
   "outputs": [
    {
     "data": {
      "text/plain": [
       "'1_formattarget_file = \"./csv/proprietaire.csv\"\\ntar = tarfile.open(tar_file_path, \"r\")\\ntar.extract(target_file)\\ntar.close()\\n\\ndf_bdnb = pd.read_csv(target_file, usecols=[\\'siren\\', \\'denomination\\'])'"
      ]
     },
     "execution_count": 12,
     "metadata": {},
     "output_type": "execute_result"
    }
   ],
   "source": [
    "import pandas as pd \n",
    "import tarfile\n",
    "\n",
    "\n",
    "tar_file_path = \"../0_data/open_data_millesime_2022-10-c_france_csv.tar/open_data_millesime_2022-10-c_france_csv.tar\"\n",
    "\"\"\"1_formattarget_file = \"./csv/proprietaire.csv\"\n",
    "tar = tarfile.open(tar_file_path, \"r\")\n",
    "tar.extract(target_file)\n",
    "tar.close()\n",
    "\n",
    "df_bdnb = pd.read_csv(target_file, usecols=['siren', 'denomination'])\"\"\""
   ]
  },
  {
   "cell_type": "code",
   "execution_count": 13,
   "metadata": {},
   "outputs": [
    {
     "ename": "FileNotFoundError",
     "evalue": "[Errno 2] No such file or directory: '../0_data/open_data_millesime_2022-10-c_france_csv.tar/open_data_millesime_2022-10-c_france_csv.tar'",
     "output_type": "error",
     "traceback": [
      "\u001b[1;31m---------------------------------------------------------------------------\u001b[0m",
      "\u001b[1;31mFileNotFoundError\u001b[0m                         Traceback (most recent call last)",
      "Cell \u001b[1;32mIn[13], line 2\u001b[0m\n\u001b[0;32m      1\u001b[0m file_names \u001b[39m=\u001b[39m []\n\u001b[1;32m----> 2\u001b[0m \u001b[39mwith\u001b[39;00m tarfile\u001b[39m.\u001b[39;49mopen(tar_file_path, \u001b[39m'\u001b[39;49m\u001b[39mr\u001b[39;49m\u001b[39m'\u001b[39;49m) \u001b[39mas\u001b[39;00m tar:\n\u001b[0;32m      3\u001b[0m     \u001b[39mfor\u001b[39;00m member \u001b[39min\u001b[39;00m tar\u001b[39m.\u001b[39mgetmembers():\n\u001b[0;32m      4\u001b[0m         file_names\u001b[39m.\u001b[39mappend(member\u001b[39m.\u001b[39mname)\n",
      "File \u001b[1;32mc:\\Python311\\Lib\\tarfile.py:1632\u001b[0m, in \u001b[0;36mTarFile.open\u001b[1;34m(cls, name, mode, fileobj, bufsize, **kwargs)\u001b[0m\n\u001b[0;32m   1630\u001b[0m     saved_pos \u001b[39m=\u001b[39m fileobj\u001b[39m.\u001b[39mtell()\n\u001b[0;32m   1631\u001b[0m \u001b[39mtry\u001b[39;00m:\n\u001b[1;32m-> 1632\u001b[0m     \u001b[39mreturn\u001b[39;00m func(name, \u001b[39m\"\u001b[39;49m\u001b[39mr\u001b[39;49m\u001b[39m\"\u001b[39;49m, fileobj, \u001b[39m*\u001b[39;49m\u001b[39m*\u001b[39;49mkwargs)\n\u001b[0;32m   1633\u001b[0m \u001b[39mexcept\u001b[39;00m (ReadError, CompressionError) \u001b[39mas\u001b[39;00m e:\n\u001b[0;32m   1634\u001b[0m     error_msgs\u001b[39m.\u001b[39mappend(\u001b[39mf\u001b[39m\u001b[39m'\u001b[39m\u001b[39m- method \u001b[39m\u001b[39m{\u001b[39;00mcomptype\u001b[39m}\u001b[39;00m\u001b[39m: \u001b[39m\u001b[39m{\u001b[39;00me\u001b[39m!r}\u001b[39;00m\u001b[39m'\u001b[39m)\n",
      "File \u001b[1;32mc:\\Python311\\Lib\\tarfile.py:1698\u001b[0m, in \u001b[0;36mTarFile.gzopen\u001b[1;34m(cls, name, mode, fileobj, compresslevel, **kwargs)\u001b[0m\n\u001b[0;32m   1695\u001b[0m     \u001b[39mraise\u001b[39;00m CompressionError(\u001b[39m\"\u001b[39m\u001b[39mgzip module is not available\u001b[39m\u001b[39m\"\u001b[39m) \u001b[39mfrom\u001b[39;00m \u001b[39mNone\u001b[39;00m\n\u001b[0;32m   1697\u001b[0m \u001b[39mtry\u001b[39;00m:\n\u001b[1;32m-> 1698\u001b[0m     fileobj \u001b[39m=\u001b[39m GzipFile(name, mode \u001b[39m+\u001b[39;49m \u001b[39m\"\u001b[39;49m\u001b[39mb\u001b[39;49m\u001b[39m\"\u001b[39;49m, compresslevel, fileobj)\n\u001b[0;32m   1699\u001b[0m \u001b[39mexcept\u001b[39;00m \u001b[39mOSError\u001b[39;00m \u001b[39mas\u001b[39;00m e:\n\u001b[0;32m   1700\u001b[0m     \u001b[39mif\u001b[39;00m fileobj \u001b[39mis\u001b[39;00m \u001b[39mnot\u001b[39;00m \u001b[39mNone\u001b[39;00m \u001b[39mand\u001b[39;00m mode \u001b[39m==\u001b[39m \u001b[39m'\u001b[39m\u001b[39mr\u001b[39m\u001b[39m'\u001b[39m:\n",
      "File \u001b[1;32mc:\\Python311\\Lib\\gzip.py:174\u001b[0m, in \u001b[0;36mGzipFile.__init__\u001b[1;34m(self, filename, mode, compresslevel, fileobj, mtime)\u001b[0m\n\u001b[0;32m    172\u001b[0m     mode \u001b[39m+\u001b[39m\u001b[39m=\u001b[39m \u001b[39m'\u001b[39m\u001b[39mb\u001b[39m\u001b[39m'\u001b[39m\n\u001b[0;32m    173\u001b[0m \u001b[39mif\u001b[39;00m fileobj \u001b[39mis\u001b[39;00m \u001b[39mNone\u001b[39;00m:\n\u001b[1;32m--> 174\u001b[0m     fileobj \u001b[39m=\u001b[39m \u001b[39mself\u001b[39m\u001b[39m.\u001b[39mmyfileobj \u001b[39m=\u001b[39m builtins\u001b[39m.\u001b[39;49mopen(filename, mode \u001b[39mor\u001b[39;49;00m \u001b[39m'\u001b[39;49m\u001b[39mrb\u001b[39;49m\u001b[39m'\u001b[39;49m)\n\u001b[0;32m    175\u001b[0m \u001b[39mif\u001b[39;00m filename \u001b[39mis\u001b[39;00m \u001b[39mNone\u001b[39;00m:\n\u001b[0;32m    176\u001b[0m     filename \u001b[39m=\u001b[39m \u001b[39mgetattr\u001b[39m(fileobj, \u001b[39m'\u001b[39m\u001b[39mname\u001b[39m\u001b[39m'\u001b[39m, \u001b[39m'\u001b[39m\u001b[39m'\u001b[39m)\n",
      "\u001b[1;31mFileNotFoundError\u001b[0m: [Errno 2] No such file or directory: '../0_data/open_data_millesime_2022-10-c_france_csv.tar/open_data_millesime_2022-10-c_france_csv.tar'"
     ]
    }
   ],
   "source": [
    "file_names = []\n",
    "with tarfile.open(tar_file_path, 'r') as tar:\n",
    "    for member in tar.getmembers():\n",
    "        file_names.append(member.name)"
   ]
  },
  {
   "cell_type": "code",
   "execution_count": null,
   "metadata": {},
   "outputs": [],
   "source": [
    "tar_file_path = \"../0_data/open_data_millesime_2022-10-c_france_csv.tar/open_data_millesime_2022-10-c_france_csv.tar\"\n",
    "#target_file = \"./csv/proprietaire.csv\"\n",
    "tar = tarfile.open(tar_file_path, \"r\")\n",
    "tar.extract(target_file)\n",
    "tar.close()\n",
    "\n",
    "df_bdnb = pd.read_csv(target_file, usecols=['siren', 'denomination'])"
   ]
  }
 ],
 "metadata": {
  "kernelspec": {
   "display_name": "Python 3",
   "language": "python",
   "name": "python3"
  },
  "language_info": {
   "codemirror_mode": {
    "name": "ipython",
    "version": 3
   },
   "file_extension": ".py",
   "mimetype": "text/x-python",
   "name": "python",
   "nbconvert_exporter": "python",
   "pygments_lexer": "ipython3",
   "version": "3.11.3"
  },
  "orig_nbformat": 4
 },
 "nbformat": 4,
 "nbformat_minor": 2
}
