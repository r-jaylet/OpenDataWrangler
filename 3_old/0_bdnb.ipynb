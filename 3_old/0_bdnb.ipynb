{
 "cells": [
  {
   "cell_type": "code",
   "execution_count": null,
   "id": "24a80340",
   "metadata": {},
   "outputs": [],
   "source": [
    "import tarfile\n",
    "\n",
    "import pandas as pd\n",
    "import json\n",
    "import plotly.express as px\n",
    "import matplotlib.pyplot as plt\n",
    "import plotly.graph_objects as go\n",
    "import seaborn\n",
    "import numpy as np\n",
    "import glob\n",
    "from matplotlib.pyplot import figure\n",
    "seaborn.set()"
   ]
  },
  {
   "cell_type": "code",
   "execution_count": null,
   "id": "b89b3746",
   "metadata": {},
   "outputs": [],
   "source": [
    "tar_file_path = \"../0_data/open_data_millesime_2022-10-c_france_csv.tar/open_data_millesime_2022-10-c_france_csv.tar\"\n",
    "target_file = \"./csv/proprietaire.csv\"\n",
    "tar = tarfile.open(tar_file_path, \"r\")\n",
    "tar.extract(target_file)\n",
    "tar.close()\n",
    "\n",
    "df_bdnb = pd.read_csv(target_file, usecols=['siren', 'denomination'])"
   ]
  }
 ],
 "metadata": {
  "kernelspec": {
   "display_name": "Python 3 (ipykernel)",
   "language": "python",
   "name": "python3"
  },
  "language_info": {
   "codemirror_mode": {
    "name": "ipython",
    "version": 3
   },
   "file_extension": ".py",
   "mimetype": "text/x-python",
   "name": "python",
   "nbconvert_exporter": "python",
   "pygments_lexer": "ipython3",
   "version": "3.11.3"
  }
 },
 "nbformat": 4,
 "nbformat_minor": 5
}
