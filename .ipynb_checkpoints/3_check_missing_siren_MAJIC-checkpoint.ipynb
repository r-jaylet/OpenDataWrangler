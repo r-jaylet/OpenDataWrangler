{
 "cells": [
  {
   "cell_type": "code",
   "execution_count": 1,
   "id": "351bda4b",
   "metadata": {},
   "outputs": [],
   "source": [
    "import pandas as pd\n",
    "import glob"
   ]
  },
  {
   "cell_type": "code",
   "execution_count": 2,
   "id": "6d6c6978",
   "metadata": {},
   "outputs": [],
   "source": [
    "pd.set_option('display.max_columns', None)"
   ]
  },
  {
   "cell_type": "code",
   "execution_count": 3,
   "id": "e8c7dd1d",
   "metadata": {},
   "outputs": [],
   "source": [
    "SIREN = pd.read_csv(r'C:\\Users\\RémiJAYLET\\Documents\\City&You\\0_data\\base_sirene\\StockUniteLegale_utf8.csv', \n",
    "                    usecols=['siren', 'denominationUniteLegale'],\n",
    "                    dtype = {'siren': str, 'denominationUniteLegale': str})"
   ]
  },
  {
   "cell_type": "code",
   "execution_count": 26,
   "id": "0c1a58b0",
   "metadata": {},
   "outputs": [],
   "source": [
    "SIREN = SIREN[~SIREN.denominationUniteLegale.isna()]"
   ]
  },
  {
   "cell_type": "code",
   "execution_count": 27,
   "id": "f1bd16c0",
   "metadata": {},
   "outputs": [
    {
     "data": {
      "text/plain": [
       "13010157"
      ]
     },
     "execution_count": 27,
     "metadata": {},
     "output_type": "execute_result"
    }
   ],
   "source": [
    "len(SIREN)"
   ]
  },
  {
   "cell_type": "code",
   "execution_count": null,
   "id": "01dce9f0",
   "metadata": {},
   "outputs": [],
   "source": [
    "df_parc1 = pd.concat([pd.read_csv(i, sep=';', encoding='latin', low_memory=False) for i in glob.glob(\n",
    "    \"../0_data/parcelles/Fichier des parcelles (situation 2022)-dept 01 à 61/Fichier des parcelles (situation 2022)-dpts 01 à 61/*.txt\",\n",
    "    recursive=True)])\n",
    "df_parc2 = pd.concat([pd.read_csv(i, sep=';', encoding='latin', low_memory=False) for i in glob.glob(\n",
    "    \"../0_data/parcelles/Fichier des parcelles (situation 2022)-dept 62 à 976/Fichier des parcelles (situation 2022)-dpts 62 à 976/*.txt\",\n",
    "    recursive=True)])\n",
    "df_parc = pd.concat([df_parc1, df_parc2], axis=0)"
   ]
  },
  {
   "cell_type": "code",
   "execution_count": 30,
   "id": "d524a9a1",
   "metadata": {},
   "outputs": [],
   "source": [
    "# get rid of unknown SIREN\n",
    "parcelles = df_parc.dropna(subset='N° SIREN (Propriétaire(s) parcelle)')\n",
    "parcelles = parcelles[['N° SIREN (Propriétaire(s) parcelle)', 'Dénomination (Propriétaire(s) parcelle)', 'Nom Commune (Champ géographique)']]\n",
    "parcelles = parcelles.drop_duplicates()"
   ]
  },
  {
   "cell_type": "code",
   "execution_count": 31,
   "id": "3fe9636f",
   "metadata": {},
   "outputs": [
    {
     "data": {
      "text/plain": [
       "2484385"
      ]
     },
     "execution_count": 31,
     "metadata": {},
     "output_type": "execute_result"
    }
   ],
   "source": [
    "len(parcelles)"
   ]
  },
  {
   "cell_type": "markdown",
   "id": "b4d74a8f",
   "metadata": {},
   "source": [
    "### Match with SIREN CODE"
   ]
  },
  {
   "cell_type": "code",
   "execution_count": 32,
   "id": "95178035",
   "metadata": {},
   "outputs": [],
   "source": [
    "df_merge_siren = parcelles.merge(SIREN,\n",
    "                             how='inner',\n",
    "                             left_on='N° SIREN (Propriétaire(s) parcelle)',\n",
    "                             right_on='siren')\n",
    "df_merge_siren = df_merge_siren.drop_duplicates()[['siren', 'Dénomination (Propriétaire(s) parcelle)', 'denominationUniteLegale']]"
   ]
  },
  {
   "cell_type": "code",
   "execution_count": 33,
   "id": "d1012e27",
   "metadata": {},
   "outputs": [
    {
     "data": {
      "text/html": [
       "<div>\n",
       "<style scoped>\n",
       "    .dataframe tbody tr th:only-of-type {\n",
       "        vertical-align: middle;\n",
       "    }\n",
       "\n",
       "    .dataframe tbody tr th {\n",
       "        vertical-align: top;\n",
       "    }\n",
       "\n",
       "    .dataframe thead th {\n",
       "        text-align: right;\n",
       "    }\n",
       "</style>\n",
       "<table border=\"1\" class=\"dataframe\">\n",
       "  <thead>\n",
       "    <tr style=\"text-align: right;\">\n",
       "      <th></th>\n",
       "      <th>siren</th>\n",
       "      <th>Dénomination (Propriétaire(s) parcelle)</th>\n",
       "      <th>denominationUniteLegale</th>\n",
       "    </tr>\n",
       "  </thead>\n",
       "  <tbody>\n",
       "    <tr>\n",
       "      <th>0</th>\n",
       "      <td>443843081</td>\n",
       "      <td>DE LORDRE</td>\n",
       "      <td>GROUPEMENT FORESTIER DE L'ORDRE</td>\n",
       "    </tr>\n",
       "    <tr>\n",
       "      <th>1</th>\n",
       "      <td>443843081</td>\n",
       "      <td>DE LORDRE</td>\n",
       "      <td>GROUPEMENT FORESTIER DE L'ORDRE</td>\n",
       "    </tr>\n",
       "    <tr>\n",
       "      <th>2</th>\n",
       "      <td>343954038</td>\n",
       "      <td>DE MONT JOLI</td>\n",
       "      <td>GFA DE MONT JOLI</td>\n",
       "    </tr>\n",
       "    <tr>\n",
       "      <th>3</th>\n",
       "      <td>343954038</td>\n",
       "      <td>DE MONT JOLI</td>\n",
       "      <td>GFA DE MONT JOLI</td>\n",
       "    </tr>\n",
       "    <tr>\n",
       "      <th>4</th>\n",
       "      <td>343954038</td>\n",
       "      <td>DE MONT JOLI</td>\n",
       "      <td>GFA DE MONT JOLI</td>\n",
       "    </tr>\n",
       "    <tr>\n",
       "      <th>...</th>\n",
       "      <td>...</td>\n",
       "      <td>...</td>\n",
       "      <td>...</td>\n",
       "    </tr>\n",
       "    <tr>\n",
       "      <th>1698450</th>\n",
       "      <td>888910486</td>\n",
       "      <td>SCI MUMANGA</td>\n",
       "      <td>SCI MUMANGA</td>\n",
       "    </tr>\n",
       "    <tr>\n",
       "      <th>1698451</th>\n",
       "      <td>888910445</td>\n",
       "      <td>SCI KIWANO</td>\n",
       "      <td>SCI KIWANO</td>\n",
       "    </tr>\n",
       "    <tr>\n",
       "      <th>1698452</th>\n",
       "      <td>888910478</td>\n",
       "      <td>SCI MARASHI</td>\n",
       "      <td>SCI MARASHI</td>\n",
       "    </tr>\n",
       "    <tr>\n",
       "      <th>1698453</th>\n",
       "      <td>847712734</td>\n",
       "      <td>HANAA</td>\n",
       "      <td>HANAA</td>\n",
       "    </tr>\n",
       "    <tr>\n",
       "      <th>1698454</th>\n",
       "      <td>885267559</td>\n",
       "      <td>MAYDJAL</td>\n",
       "      <td>SARL MAYDJAL</td>\n",
       "    </tr>\n",
       "  </tbody>\n",
       "</table>\n",
       "<p>1698455 rows × 3 columns</p>\n",
       "</div>"
      ],
      "text/plain": [
       "             siren Dénomination (Propriétaire(s) parcelle)   \n",
       "0        443843081                               DE LORDRE  \\\n",
       "1        443843081                               DE LORDRE   \n",
       "2        343954038                            DE MONT JOLI   \n",
       "3        343954038                            DE MONT JOLI   \n",
       "4        343954038                            DE MONT JOLI   \n",
       "...            ...                                     ...   \n",
       "1698450  888910486                             SCI MUMANGA   \n",
       "1698451  888910445                              SCI KIWANO   \n",
       "1698452  888910478                             SCI MARASHI   \n",
       "1698453  847712734                                   HANAA   \n",
       "1698454  885267559                                 MAYDJAL   \n",
       "\n",
       "                 denominationUniteLegale  \n",
       "0        GROUPEMENT FORESTIER DE L'ORDRE  \n",
       "1        GROUPEMENT FORESTIER DE L'ORDRE  \n",
       "2                       GFA DE MONT JOLI  \n",
       "3                       GFA DE MONT JOLI  \n",
       "4                       GFA DE MONT JOLI  \n",
       "...                                  ...  \n",
       "1698450                      SCI MUMANGA  \n",
       "1698451                       SCI KIWANO  \n",
       "1698452                      SCI MARASHI  \n",
       "1698453                            HANAA  \n",
       "1698454                     SARL MAYDJAL  \n",
       "\n",
       "[1698455 rows x 3 columns]"
      ]
     },
     "execution_count": 33,
     "metadata": {},
     "output_type": "execute_result"
    }
   ],
   "source": [
    "df_merge_siren"
   ]
  },
  {
   "cell_type": "markdown",
   "id": "ae3207e7",
   "metadata": {},
   "source": [
    "### Match with name"
   ]
  },
  {
   "cell_type": "code",
   "execution_count": 34,
   "id": "54762c73",
   "metadata": {},
   "outputs": [
    {
     "data": {
      "text/plain": [
       "783447"
      ]
     },
     "execution_count": 34,
     "metadata": {},
     "output_type": "execute_result"
    }
   ],
   "source": [
    "# Number of missing SIREN in the PARCELLES table\n",
    "len(parcelles[parcelles['N° SIREN (Propriétaire(s) parcelle)'].str.startswith('U', na=False)])"
   ]
  },
  {
   "cell_type": "code",
   "execution_count": 35,
   "id": "12ba5fad",
   "metadata": {},
   "outputs": [],
   "source": [
    "#names of the companies to find\n",
    "nom_entreprise = list(parcelles.loc[(parcelles['N° SIREN (Propriétaire(s) parcelle)'].str.startswith('U', na=False))\n",
    "                                   & ~(parcelles['Dénomination (Propriétaire(s) parcelle)'].str.startswith('PROPRIETAIRES ', na=False))]['Dénomination (Propriétaire(s) parcelle)'].unique())"
   ]
  },
  {
   "cell_type": "code",
   "execution_count": 39,
   "id": "b61da9bd",
   "metadata": {},
   "outputs": [],
   "source": [
    "df_merge_nom = parcelles.merge(SIREN[:10000], how='left',\n",
    "                           left_on=['Dénomination (Propriétaire(s) parcelle)'],\n",
    "                           right_on=['denominationUniteLegale'])\n",
    "df_merge_nom = df_merge_nom[~df_merge_nom.siren.isna()]"
   ]
  },
  {
   "cell_type": "code",
   "execution_count": 41,
   "id": "b5392c36",
   "metadata": {},
   "outputs": [
    {
     "data": {
      "text/html": [
       "<div>\n",
       "<style scoped>\n",
       "    .dataframe tbody tr th:only-of-type {\n",
       "        vertical-align: middle;\n",
       "    }\n",
       "\n",
       "    .dataframe tbody tr th {\n",
       "        vertical-align: top;\n",
       "    }\n",
       "\n",
       "    .dataframe thead th {\n",
       "        text-align: right;\n",
       "    }\n",
       "</style>\n",
       "<table border=\"1\" class=\"dataframe\">\n",
       "  <thead>\n",
       "    <tr style=\"text-align: right;\">\n",
       "      <th></th>\n",
       "      <th>N° SIREN (Propriétaire(s) parcelle)</th>\n",
       "      <th>Dénomination (Propriétaire(s) parcelle)</th>\n",
       "      <th>Nom Commune (Champ géographique)</th>\n",
       "      <th>siren</th>\n",
       "      <th>denominationUniteLegale</th>\n",
       "    </tr>\n",
       "  </thead>\n",
       "  <tbody>\n",
       "    <tr>\n",
       "      <th>1402</th>\n",
       "      <td>016250029</td>\n",
       "      <td>APRR</td>\n",
       "      <td>APREMONT</td>\n",
       "      <td>016250029</td>\n",
       "      <td>APRR</td>\n",
       "    </tr>\n",
       "    <tr>\n",
       "      <th>1502</th>\n",
       "      <td>016250029</td>\n",
       "      <td>APRR</td>\n",
       "      <td>ARBENT</td>\n",
       "      <td>016250029</td>\n",
       "      <td>APRR</td>\n",
       "    </tr>\n",
       "    <tr>\n",
       "      <th>2623</th>\n",
       "      <td>016250029</td>\n",
       "      <td>APRR</td>\n",
       "      <td>BAGE-DOMMARTIN</td>\n",
       "      <td>016250029</td>\n",
       "      <td>APRR</td>\n",
       "    </tr>\n",
       "    <tr>\n",
       "      <th>2783</th>\n",
       "      <td>016250029</td>\n",
       "      <td>APRR</td>\n",
       "      <td>BALAN</td>\n",
       "      <td>016250029</td>\n",
       "      <td>APRR</td>\n",
       "    </tr>\n",
       "    <tr>\n",
       "      <th>2874</th>\n",
       "      <td>016250029</td>\n",
       "      <td>APRR</td>\n",
       "      <td>BEAUPONT</td>\n",
       "      <td>016250029</td>\n",
       "      <td>APRR</td>\n",
       "    </tr>\n",
       "    <tr>\n",
       "      <th>...</th>\n",
       "      <td>...</td>\n",
       "      <td>...</td>\n",
       "      <td>...</td>\n",
       "      <td>...</td>\n",
       "      <td>...</td>\n",
       "    </tr>\n",
       "    <tr>\n",
       "      <th>2483860</th>\n",
       "      <td>U23720813</td>\n",
       "      <td>SYNDICAT DES COPROPRIETAIRES</td>\n",
       "      <td>SAINTE SUZANNE</td>\n",
       "      <td>010242147</td>\n",
       "      <td>SYNDICAT DES COPROPRIETAIRES</td>\n",
       "    </tr>\n",
       "    <tr>\n",
       "      <th>2483861</th>\n",
       "      <td>U23720813</td>\n",
       "      <td>SYNDICAT DES COPROPRIETAIRES</td>\n",
       "      <td>SAINTE SUZANNE</td>\n",
       "      <td>010248359</td>\n",
       "      <td>SYNDICAT DES COPROPRIETAIRES</td>\n",
       "    </tr>\n",
       "    <tr>\n",
       "      <th>2483862</th>\n",
       "      <td>U23720813</td>\n",
       "      <td>SYNDICAT DES COPROPRIETAIRES</td>\n",
       "      <td>SAINTE SUZANNE</td>\n",
       "      <td>010248789</td>\n",
       "      <td>SYNDICAT DES COPROPRIETAIRES</td>\n",
       "    </tr>\n",
       "    <tr>\n",
       "      <th>2483863</th>\n",
       "      <td>U23720813</td>\n",
       "      <td>SYNDICAT DES COPROPRIETAIRES</td>\n",
       "      <td>SAINTE SUZANNE</td>\n",
       "      <td>010248797</td>\n",
       "      <td>SYNDICAT DES COPROPRIETAIRES</td>\n",
       "    </tr>\n",
       "    <tr>\n",
       "      <th>2483864</th>\n",
       "      <td>U23720813</td>\n",
       "      <td>SYNDICAT DES COPROPRIETAIRES</td>\n",
       "      <td>SAINTE SUZANNE</td>\n",
       "      <td>011341070</td>\n",
       "      <td>SYNDICAT DES COPROPRIETAIRES</td>\n",
       "    </tr>\n",
       "  </tbody>\n",
       "</table>\n",
       "<p>5905 rows × 5 columns</p>\n",
       "</div>"
      ],
      "text/plain": [
       "        N° SIREN (Propriétaire(s) parcelle)   \n",
       "1402                              016250029  \\\n",
       "1502                              016250029   \n",
       "2623                              016250029   \n",
       "2783                              016250029   \n",
       "2874                              016250029   \n",
       "...                                     ...   \n",
       "2483860                           U23720813   \n",
       "2483861                           U23720813   \n",
       "2483862                           U23720813   \n",
       "2483863                           U23720813   \n",
       "2483864                           U23720813   \n",
       "\n",
       "        Dénomination (Propriétaire(s) parcelle)   \n",
       "1402                                       APRR  \\\n",
       "1502                                       APRR   \n",
       "2623                                       APRR   \n",
       "2783                                       APRR   \n",
       "2874                                       APRR   \n",
       "...                                         ...   \n",
       "2483860            SYNDICAT DES COPROPRIETAIRES   \n",
       "2483861            SYNDICAT DES COPROPRIETAIRES   \n",
       "2483862            SYNDICAT DES COPROPRIETAIRES   \n",
       "2483863            SYNDICAT DES COPROPRIETAIRES   \n",
       "2483864            SYNDICAT DES COPROPRIETAIRES   \n",
       "\n",
       "        Nom Commune (Champ géographique)      siren   \n",
       "1402                            APREMONT  016250029  \\\n",
       "1502                              ARBENT  016250029   \n",
       "2623                      BAGE-DOMMARTIN  016250029   \n",
       "2783                               BALAN  016250029   \n",
       "2874                            BEAUPONT  016250029   \n",
       "...                                  ...        ...   \n",
       "2483860                   SAINTE SUZANNE  010242147   \n",
       "2483861                   SAINTE SUZANNE  010248359   \n",
       "2483862                   SAINTE SUZANNE  010248789   \n",
       "2483863                   SAINTE SUZANNE  010248797   \n",
       "2483864                   SAINTE SUZANNE  011341070   \n",
       "\n",
       "              denominationUniteLegale  \n",
       "1402                             APRR  \n",
       "1502                             APRR  \n",
       "2623                             APRR  \n",
       "2783                             APRR  \n",
       "2874                             APRR  \n",
       "...                               ...  \n",
       "2483860  SYNDICAT DES COPROPRIETAIRES  \n",
       "2483861  SYNDICAT DES COPROPRIETAIRES  \n",
       "2483862  SYNDICAT DES COPROPRIETAIRES  \n",
       "2483863  SYNDICAT DES COPROPRIETAIRES  \n",
       "2483864  SYNDICAT DES COPROPRIETAIRES  \n",
       "\n",
       "[5905 rows x 5 columns]"
      ]
     },
     "execution_count": 41,
     "metadata": {},
     "output_type": "execute_result"
    }
   ],
   "source": [
    "df_merge_nom"
   ]
  },
  {
   "cell_type": "code",
   "execution_count": 53,
   "id": "c2d5f8f5",
   "metadata": {},
   "outputs": [
    {
     "name": "stdout",
     "output_type": "stream",
     "text": [
      "# matchs : 1189\n",
      "# errors : 2815\n",
      "success rate : 29.7 %\n"
     ]
    }
   ],
   "source": [
    "df_merge_known = df_merge_nom[~df_merge_nom['N° SIREN (Propriétaire(s) parcelle)'].str.startswith('U', na=False)]\n",
    "print('# matchs :',  len(df_merge_known[df_merge_known['N° SIREN (Propriétaire(s) parcelle)'] == df_merge_known['siren']]))\n",
    "print('# errors :',  len(df_merge_known[df_merge_known['N° SIREN (Propriétaire(s) parcelle)'] != df_merge_known['siren']]))\n",
    "print('success rate :', round(100 * len(df_merge_known[df_merge_known['N° SIREN (Propriétaire(s) parcelle)'] == df_merge_known['siren']])/len(df_merge_known),2), '%')"
   ]
  },
  {
   "cell_type": "code",
   "execution_count": 55,
   "id": "00f1de02",
   "metadata": {},
   "outputs": [
    {
     "name": "stdout",
     "output_type": "stream",
     "text": [
      "# unknown siren \"retrouvé\" : 1901\n"
     ]
    }
   ],
   "source": [
    "df_merge_unknown = df_merge_nom[df_merge_nom['N° SIREN (Propriétaire(s) parcelle)'].str.startswith('U', na=False)]\n",
    "print('# unknown siren \"retrouvé\" :', len(df_merge_unknown))\n",
    "print('taux match :', len(df_merge_unknown) / len() )"
   ]
  },
  {
   "cell_type": "code",
   "execution_count": null,
   "id": "0df39291",
   "metadata": {},
   "outputs": [],
   "source": [
    "df_merge_nom.loc[(df_merge_nom.siren.notna()) & (df_merge_nom['N° SIREN (Propriétaire(s) parcelle)'].str.startswith('U', na=False))].head(10)"
   ]
  },
  {
   "cell_type": "code",
   "execution_count": null,
   "id": "20e43c25",
   "metadata": {},
   "outputs": [],
   "source": [
    "len(df_merge_nom.loc[(df_merge_nom.siren.notna()) & (df_merge_nom['N° SIREN (Propriétaire(s) parcelle)'].str.startswith('U', na=False))])"
   ]
  },
  {
   "cell_type": "code",
   "execution_count": null,
   "id": "3fdaa204",
   "metadata": {},
   "outputs": [],
   "source": [
    "tmp = list(SIRENE['denominationUniteLegale'].copy())\n",
    "SIRENE['denominationUniteLegale_formatted'] = [str(ele).replace('SC ', '').replace('SCI ', '').replace('SA ', '').replace('SCP ', '').replace('SARL ', '').replace('GFA ', '').replace('SCA ', '').replace('.', ' ').replace(\"'\", ' ').replace('-', ' ') for ele in tmp]\n",
    "\n",
    "tmp = list(parcelles['Dénomination (Propriétaire(s) parcelle)'].copy())\n",
    "parcelles['Dénomination (Propriétaire(s) parcelle)_formatted'] = [str(ele).replace('SC ', '').replace('SCI ', '').replace('SA ', '').replace('SCP ', '').replace('SARL ', '').replace('GFA ', '').replace('SCA ', '').replace('.', ' ').replace(\"'\", ' ').replace('-', ' ') for ele in tmp]"
   ]
  },
  {
   "cell_type": "code",
   "execution_count": null,
   "id": "66655277",
   "metadata": {},
   "outputs": [],
   "source": [
    "print('prop modif parcelles : ', round(100* len(parcelles.loc[~(parcelles['Dénomination (Propriétaire(s) parcelle)'] == parcelles['Dénomination (Propriétaire(s) parcelle)_formatted'])]) / len(parcelles), 2), '%')\n",
    "print('prop modif SIRENE : ', round(100* len(SIRENE.loc[~(SIRENE['denominationUniteLegale'] == SIRENE['denominationUniteLegale_formatted'])]) / len(SIRENE), 2), '%')"
   ]
  },
  {
   "cell_type": "code",
   "execution_count": null,
   "id": "18aa6f55",
   "metadata": {},
   "outputs": [],
   "source": [
    "df_merge = parcelles.merge(SIRENE, how='left',\n",
    "                           left_on=['Dénomination (Propriétaire(s) parcelle)_formatted', 'Nom voie (Adresse parcelle)', 'Nom Commune (Champ géographique)'],\n",
    "                           right_on=['denominationUniteLegale_formatted', 'libelleVoieEtablissement', 'libelleCommuneEtablissement'])"
   ]
  },
  {
   "cell_type": "code",
   "execution_count": null,
   "id": "1b88b4fd",
   "metadata": {},
   "outputs": [
    {
     "ename": "MemoryError",
     "evalue": "Unable to allocate 8.91 GiB for an array with shape (1196362999,) and data type int64",
     "output_type": "error",
     "traceback": [
      "\u001b[1;31m---------------------------------------------------------------------------\u001b[0m",
      "\u001b[1;31mMemoryError\u001b[0m                               Traceback (most recent call last)",
      "Cell \u001b[1;32mIn[64], line 1\u001b[0m\n\u001b[1;32m----> 1\u001b[0m df_merge_siren \u001b[39m=\u001b[39m parcelles\u001b[39m.\u001b[39;49mmerge(SIRENE, how\u001b[39m=\u001b[39;49m\u001b[39m'\u001b[39;49m\u001b[39mleft\u001b[39;49m\u001b[39m'\u001b[39;49m,\n\u001b[0;32m      2\u001b[0m                      left_on\u001b[39m=\u001b[39;49m\u001b[39m'\u001b[39;49m\u001b[39mN° SIREN (Propriétaire(s) parcelle)\u001b[39;49m\u001b[39m'\u001b[39;49m,\n\u001b[0;32m      3\u001b[0m                      right_on\u001b[39m=\u001b[39;49m\u001b[39m'\u001b[39;49m\u001b[39msiren\u001b[39;49m\u001b[39m'\u001b[39;49m)\n",
      "File \u001b[1;32mc:\\Python311\\Lib\\site-packages\\pandas\\core\\frame.py:9848\u001b[0m, in \u001b[0;36mDataFrame.merge\u001b[1;34m(self, right, how, on, left_on, right_on, left_index, right_index, sort, suffixes, copy, indicator, validate)\u001b[0m\n\u001b[0;32m   9829\u001b[0m \u001b[39m@Substitution\u001b[39m(\u001b[39m\"\u001b[39m\u001b[39m\"\u001b[39m)\n\u001b[0;32m   9830\u001b[0m \u001b[39m@Appender\u001b[39m(_merge_doc, indents\u001b[39m=\u001b[39m\u001b[39m2\u001b[39m)\n\u001b[0;32m   9831\u001b[0m \u001b[39mdef\u001b[39;00m \u001b[39mmerge\u001b[39m(\n\u001b[1;32m   (...)\u001b[0m\n\u001b[0;32m   9844\u001b[0m     validate: \u001b[39mstr\u001b[39m \u001b[39m|\u001b[39m \u001b[39mNone\u001b[39;00m \u001b[39m=\u001b[39m \u001b[39mNone\u001b[39;00m,\n\u001b[0;32m   9845\u001b[0m ) \u001b[39m-\u001b[39m\u001b[39m>\u001b[39m DataFrame:\n\u001b[0;32m   9846\u001b[0m     \u001b[39mfrom\u001b[39;00m \u001b[39mpandas\u001b[39;00m\u001b[39m.\u001b[39;00m\u001b[39mcore\u001b[39;00m\u001b[39m.\u001b[39;00m\u001b[39mreshape\u001b[39;00m\u001b[39m.\u001b[39;00m\u001b[39mmerge\u001b[39;00m \u001b[39mimport\u001b[39;00m merge\n\u001b[1;32m-> 9848\u001b[0m     \u001b[39mreturn\u001b[39;00m merge(\n\u001b[0;32m   9849\u001b[0m         \u001b[39mself\u001b[39;49m,\n\u001b[0;32m   9850\u001b[0m         right,\n\u001b[0;32m   9851\u001b[0m         how\u001b[39m=\u001b[39;49mhow,\n\u001b[0;32m   9852\u001b[0m         on\u001b[39m=\u001b[39;49mon,\n\u001b[0;32m   9853\u001b[0m         left_on\u001b[39m=\u001b[39;49mleft_on,\n\u001b[0;32m   9854\u001b[0m         right_on\u001b[39m=\u001b[39;49mright_on,\n\u001b[0;32m   9855\u001b[0m         left_index\u001b[39m=\u001b[39;49mleft_index,\n\u001b[0;32m   9856\u001b[0m         right_index\u001b[39m=\u001b[39;49mright_index,\n\u001b[0;32m   9857\u001b[0m         sort\u001b[39m=\u001b[39;49msort,\n\u001b[0;32m   9858\u001b[0m         suffixes\u001b[39m=\u001b[39;49msuffixes,\n\u001b[0;32m   9859\u001b[0m         copy\u001b[39m=\u001b[39;49mcopy,\n\u001b[0;32m   9860\u001b[0m         indicator\u001b[39m=\u001b[39;49mindicator,\n\u001b[0;32m   9861\u001b[0m         validate\u001b[39m=\u001b[39;49mvalidate,\n\u001b[0;32m   9862\u001b[0m     )\n",
      "File \u001b[1;32mc:\\Python311\\Lib\\site-packages\\pandas\\core\\reshape\\merge.py:158\u001b[0m, in \u001b[0;36mmerge\u001b[1;34m(left, right, how, on, left_on, right_on, left_index, right_index, sort, suffixes, copy, indicator, validate)\u001b[0m\n\u001b[0;32m    127\u001b[0m \u001b[39m@Substitution\u001b[39m(\u001b[39m\"\u001b[39m\u001b[39m\\n\u001b[39;00m\u001b[39mleft : DataFrame or named Series\u001b[39m\u001b[39m\"\u001b[39m)\n\u001b[0;32m    128\u001b[0m \u001b[39m@Appender\u001b[39m(_merge_doc, indents\u001b[39m=\u001b[39m\u001b[39m0\u001b[39m)\n\u001b[0;32m    129\u001b[0m \u001b[39mdef\u001b[39;00m \u001b[39mmerge\u001b[39m(\n\u001b[1;32m   (...)\u001b[0m\n\u001b[0;32m    142\u001b[0m     validate: \u001b[39mstr\u001b[39m \u001b[39m|\u001b[39m \u001b[39mNone\u001b[39;00m \u001b[39m=\u001b[39m \u001b[39mNone\u001b[39;00m,\n\u001b[0;32m    143\u001b[0m ) \u001b[39m-\u001b[39m\u001b[39m>\u001b[39m DataFrame:\n\u001b[0;32m    144\u001b[0m     op \u001b[39m=\u001b[39m _MergeOperation(\n\u001b[0;32m    145\u001b[0m         left,\n\u001b[0;32m    146\u001b[0m         right,\n\u001b[1;32m   (...)\u001b[0m\n\u001b[0;32m    156\u001b[0m         validate\u001b[39m=\u001b[39mvalidate,\n\u001b[0;32m    157\u001b[0m     )\n\u001b[1;32m--> 158\u001b[0m     \u001b[39mreturn\u001b[39;00m op\u001b[39m.\u001b[39;49mget_result(copy\u001b[39m=\u001b[39;49mcopy)\n",
      "File \u001b[1;32mc:\\Python311\\Lib\\site-packages\\pandas\\core\\reshape\\merge.py:805\u001b[0m, in \u001b[0;36m_MergeOperation.get_result\u001b[1;34m(self, copy)\u001b[0m\n\u001b[0;32m    802\u001b[0m \u001b[39mif\u001b[39;00m \u001b[39mself\u001b[39m\u001b[39m.\u001b[39mindicator:\n\u001b[0;32m    803\u001b[0m     \u001b[39mself\u001b[39m\u001b[39m.\u001b[39mleft, \u001b[39mself\u001b[39m\u001b[39m.\u001b[39mright \u001b[39m=\u001b[39m \u001b[39mself\u001b[39m\u001b[39m.\u001b[39m_indicator_pre_merge(\u001b[39mself\u001b[39m\u001b[39m.\u001b[39mleft, \u001b[39mself\u001b[39m\u001b[39m.\u001b[39mright)\n\u001b[1;32m--> 805\u001b[0m join_index, left_indexer, right_indexer \u001b[39m=\u001b[39m \u001b[39mself\u001b[39;49m\u001b[39m.\u001b[39;49m_get_join_info()\n\u001b[0;32m    807\u001b[0m result \u001b[39m=\u001b[39m \u001b[39mself\u001b[39m\u001b[39m.\u001b[39m_reindex_and_concat(\n\u001b[0;32m    808\u001b[0m     join_index, left_indexer, right_indexer, copy\u001b[39m=\u001b[39mcopy\n\u001b[0;32m    809\u001b[0m )\n\u001b[0;32m    810\u001b[0m result \u001b[39m=\u001b[39m result\u001b[39m.\u001b[39m__finalize__(\u001b[39mself\u001b[39m, method\u001b[39m=\u001b[39m\u001b[39mself\u001b[39m\u001b[39m.\u001b[39m_merge_type)\n",
      "File \u001b[1;32mc:\\Python311\\Lib\\site-packages\\pandas\\core\\reshape\\merge.py:1053\u001b[0m, in \u001b[0;36m_MergeOperation._get_join_info\u001b[1;34m(self)\u001b[0m\n\u001b[0;32m   1049\u001b[0m     join_index, right_indexer, left_indexer \u001b[39m=\u001b[39m _left_join_on_index(\n\u001b[0;32m   1050\u001b[0m         right_ax, left_ax, \u001b[39mself\u001b[39m\u001b[39m.\u001b[39mright_join_keys, sort\u001b[39m=\u001b[39m\u001b[39mself\u001b[39m\u001b[39m.\u001b[39msort\n\u001b[0;32m   1051\u001b[0m     )\n\u001b[0;32m   1052\u001b[0m \u001b[39melse\u001b[39;00m:\n\u001b[1;32m-> 1053\u001b[0m     (left_indexer, right_indexer) \u001b[39m=\u001b[39m \u001b[39mself\u001b[39;49m\u001b[39m.\u001b[39;49m_get_join_indexers()\n\u001b[0;32m   1055\u001b[0m     \u001b[39mif\u001b[39;00m \u001b[39mself\u001b[39m\u001b[39m.\u001b[39mright_index:\n\u001b[0;32m   1056\u001b[0m         \u001b[39mif\u001b[39;00m \u001b[39mlen\u001b[39m(\u001b[39mself\u001b[39m\u001b[39m.\u001b[39mleft) \u001b[39m>\u001b[39m \u001b[39m0\u001b[39m:\n",
      "File \u001b[1;32mc:\\Python311\\Lib\\site-packages\\pandas\\core\\reshape\\merge.py:1026\u001b[0m, in \u001b[0;36m_MergeOperation._get_join_indexers\u001b[1;34m(self)\u001b[0m\n\u001b[0;32m   1024\u001b[0m \u001b[39mdef\u001b[39;00m \u001b[39m_get_join_indexers\u001b[39m(\u001b[39mself\u001b[39m) \u001b[39m-\u001b[39m\u001b[39m>\u001b[39m \u001b[39mtuple\u001b[39m[npt\u001b[39m.\u001b[39mNDArray[np\u001b[39m.\u001b[39mintp], npt\u001b[39m.\u001b[39mNDArray[np\u001b[39m.\u001b[39mintp]]:\n\u001b[0;32m   1025\u001b[0m \u001b[39m    \u001b[39m\u001b[39m\"\"\"return the join indexers\"\"\"\u001b[39;00m\n\u001b[1;32m-> 1026\u001b[0m     \u001b[39mreturn\u001b[39;00m get_join_indexers(\n\u001b[0;32m   1027\u001b[0m         \u001b[39mself\u001b[39;49m\u001b[39m.\u001b[39;49mleft_join_keys, \u001b[39mself\u001b[39;49m\u001b[39m.\u001b[39;49mright_join_keys, sort\u001b[39m=\u001b[39;49m\u001b[39mself\u001b[39;49m\u001b[39m.\u001b[39;49msort, how\u001b[39m=\u001b[39;49m\u001b[39mself\u001b[39;49m\u001b[39m.\u001b[39;49mhow\n\u001b[0;32m   1028\u001b[0m     )\n",
      "File \u001b[1;32mc:\\Python311\\Lib\\site-packages\\pandas\\core\\reshape\\merge.py:1672\u001b[0m, in \u001b[0;36mget_join_indexers\u001b[1;34m(left_keys, right_keys, sort, how, **kwargs)\u001b[0m\n\u001b[0;32m   1662\u001b[0m join_func \u001b[39m=\u001b[39m {\n\u001b[0;32m   1663\u001b[0m     \u001b[39m\"\u001b[39m\u001b[39minner\u001b[39m\u001b[39m\"\u001b[39m: libjoin\u001b[39m.\u001b[39minner_join,\n\u001b[0;32m   1664\u001b[0m     \u001b[39m\"\u001b[39m\u001b[39mleft\u001b[39m\u001b[39m\"\u001b[39m: libjoin\u001b[39m.\u001b[39mleft_outer_join,\n\u001b[1;32m   (...)\u001b[0m\n\u001b[0;32m   1668\u001b[0m     \u001b[39m\"\u001b[39m\u001b[39mouter\u001b[39m\u001b[39m\"\u001b[39m: libjoin\u001b[39m.\u001b[39mfull_outer_join,\n\u001b[0;32m   1669\u001b[0m }[how]\n\u001b[0;32m   1671\u001b[0m \u001b[39m# error: Cannot call function of unknown type\u001b[39;00m\n\u001b[1;32m-> 1672\u001b[0m \u001b[39mreturn\u001b[39;00m join_func(lkey, rkey, count, \u001b[39m*\u001b[39;49m\u001b[39m*\u001b[39;49mkwargs)\n",
      "File \u001b[1;32mc:\\Python311\\Lib\\site-packages\\pandas\\_libs\\join.pyx:142\u001b[0m, in \u001b[0;36mpandas._libs.join.left_outer_join\u001b[1;34m()\u001b[0m\n",
      "File \u001b[1;32mc:\\Python311\\Lib\\site-packages\\pandas\\_libs\\algos.pyx:238\u001b[0m, in \u001b[0;36mpandas._libs.algos.groupsort_indexer\u001b[1;34m()\u001b[0m\n",
      "\u001b[1;31mMemoryError\u001b[0m: Unable to allocate 8.91 GiB for an array with shape (1196362999,) and data type int64"
     ]
    }
   ],
   "source": [
    "df_merge_siren = parcelles.merge(SIRENE, how='left',\n",
    "                     left_on='N° SIREN (Propriétaire(s) parcelle)',\n",
    "                     right_on='siren')"
   ]
  },
  {
   "cell_type": "code",
   "execution_count": null,
   "id": "1dd457fc",
   "metadata": {},
   "outputs": [],
   "source": [
    "df_merge_siren[df_merge_siren.siren.notna()][['Dénomination (Propriétaire(s) parcelle)_formatted', 'denominationUniteLegale_formatted']].head(50)"
   ]
  },
  {
   "cell_type": "code",
   "execution_count": null,
   "id": "1de11fab",
   "metadata": {},
   "outputs": [
    {
     "data": {
      "text/plain": [
       "16036"
      ]
     },
     "execution_count": 50,
     "metadata": {},
     "output_type": "execute_result"
    }
   ],
   "source": [
    "len(df_merge.loc[(df_merge.siren.notna()) & (df_merge['N° SIREN (Propriétaire(s) parcelle)'].str.startswith('U', na=False))])"
   ]
  },
  {
   "cell_type": "markdown",
   "id": "70217fd2",
   "metadata": {},
   "source": [
    "Pistes pour retrouver plus d'adresses : \n",
    "- enlever la mention du type d'entreprise dand la denomination de la base SIREN (CSI, ...)\n",
    "- contains plutot que egal"
   ]
  }
 ],
 "metadata": {
  "kernelspec": {
   "display_name": "Python 3 (ipykernel)",
   "language": "python",
   "name": "python3"
  },
  "language_info": {
   "codemirror_mode": {
    "name": "ipython",
    "version": 3
   },
   "file_extension": ".py",
   "mimetype": "text/x-python",
   "name": "python",
   "nbconvert_exporter": "python",
   "pygments_lexer": "ipython3",
   "version": "3.11.3"
  }
 },
 "nbformat": 4,
 "nbformat_minor": 5
}
