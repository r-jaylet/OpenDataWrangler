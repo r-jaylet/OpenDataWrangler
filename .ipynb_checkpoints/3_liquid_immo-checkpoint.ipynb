{
 "cells": [
  {
   "cell_type": "code",
   "execution_count": 1,
   "id": "e9c691f2",
   "metadata": {},
   "outputs": [],
   "source": [
    "import sys\n",
    "sys.path.append('../1_format/')\n",
    "sys.path.append('../2_analyse/')"
   ]
  },
  {
   "cell_type": "code",
   "execution_count": 2,
   "id": "be53c26f",
   "metadata": {},
   "outputs": [],
   "source": [
    "import pandas as pd\n",
    "import requests\n",
    "import json\n",
    "import matplotlib.pyplot as plt\n",
    "import plotly.graph_objects as go\n",
    "import seaborn\n",
    "import numpy as np\n",
    "import glob\n",
    "import geopandas\n",
    "from matplotlib.pyplot import figure\n",
    "seaborn.set()"
   ]
  },
  {
   "cell_type": "code",
   "execution_count": 3,
   "id": "a4ea2929",
   "metadata": {},
   "outputs": [],
   "source": [
    "pd.set_option('display.max_columns', None)"
   ]
  },
  {
   "cell_type": "markdown",
   "id": "accc03e8",
   "metadata": {},
   "source": [
    "### Format BODACC"
   ]
  },
  {
   "cell_type": "code",
   "execution_count": 4,
   "id": "5c4d1633",
   "metadata": {},
   "outputs": [],
   "source": [
    "df_bodacc = pd.read_csv('../0_data/annonces-commerciales.csv', \n",
    "                        usecols=['id', 'dateparution', 'numeroannonce', 'jugement', 'numerodepartement', 'region_code',\n",
    "                                 'tribunal', 'commercant', 'ville', 'registre'],\n",
    "                        sep=';')"
   ]
  },
  {
   "cell_type": "code",
   "execution_count": 5,
   "id": "44045895",
   "metadata": {},
   "outputs": [],
   "source": [
    "# get jugement info\n",
    "df_bodacc = df_bodacc.dropna(subset='jugement')\n",
    "df_bodacc['jugement_nature'] = df_bodacc['jugement'].apply(lambda x: json.loads(x)['nature'])\n",
    "df_bodacc['jugement_famille'] = df_bodacc['jugement'].apply(lambda x: json.loads(x)['famille'])\n",
    "df_bodacc['jugement_date'] = df_bodacc['jugement'].apply(lambda x: json.loads(x)['date'] if 'date' in json.loads(x) else '')\n",
    "df_bodacc['jugement_complement'] = df_bodacc['jugement'].apply(lambda x: json.loads(x)['complementJugement'] \n",
    "                                                               if 'complementJugement' in json.loads(x) else '')\n",
    "df_bodacc = df_bodacc.drop('jugement', axis=1)"
   ]
  },
  {
   "cell_type": "code",
   "execution_count": 6,
   "id": "e0f05844",
   "metadata": {},
   "outputs": [],
   "source": [
    "# fix error import\n",
    "df_bodacc['jugement_famille'] = df_bodacc['jugement_famille'].replace('Jugement prononÃ§ant', 'Jugement prononçant')\n",
    "df_bodacc['jugement_famille'] = df_bodacc['jugement_famille'].replace('Avis de dÃ©pÃ´t', 'Avis de dépôt')\n",
    "df_bodacc['jugement_famille'] = df_bodacc['jugement_famille'].replace('Jugement de clÃ´ture', 'Jugement de clôture')\n",
    "df_bodacc['jugement_famille'] = df_bodacc['jugement_famille'].replace(\"ArrÃªt de la Cour d'Appel\", \"Arrêt de la Cour d'Appel\")"
   ]
  },
  {
   "cell_type": "code",
   "execution_count": 7,
   "id": "9b7de0db",
   "metadata": {},
   "outputs": [],
   "source": [
    "# get rid of null siren with no info\n",
    "df_bodacc = df_bodacc.dropna(subset='registre')\n",
    "df_bodacc['registre'] = df_bodacc['registre'].astype(str)\n",
    "df_bodacc['registre'] = df_bodacc['registre'].apply(lambda x : x.replace('000 000 000,000000000,', ''))\n",
    "df_bodacc = df_bodacc[df_bodacc['registre'] != '000 000 000,000000000']"
   ]
  },
  {
   "cell_type": "code",
   "execution_count": 8,
   "id": "922a108b",
   "metadata": {},
   "outputs": [],
   "source": [
    "# extract SIREN\n",
    "df_bodacc['SIREN'] = df_bodacc['registre'].apply(lambda x: x.split(',')[0].replace(' ', ''))\n",
    "df_bodacc = df_bodacc.drop('registre', axis=1)"
   ]
  },
  {
   "cell_type": "code",
   "execution_count": 9,
   "id": "b8ce84f5",
   "metadata": {},
   "outputs": [],
   "source": [
    "# format dates\n",
    "df_bodacc['dateparution'] = pd.to_datetime(df_bodacc['dateparution'])\n",
    "df_bodacc['jugement_date'] = pd.to_datetime(df_bodacc['jugement_date'], format='mixed', dayfirst=True, errors='ignore')"
   ]
  },
  {
   "cell_type": "code",
   "execution_count": 10,
   "id": "1614915a",
   "metadata": {},
   "outputs": [],
   "source": [
    "df_bodacc = df_bodacc.sort_values(by=['dateparution', 'SIREN'])"
   ]
  },
  {
   "cell_type": "code",
   "execution_count": 11,
   "id": "a4a9a687",
   "metadata": {},
   "outputs": [
    {
     "data": {
      "text/plain": [
       "2451404"
      ]
     },
     "execution_count": 11,
     "metadata": {},
     "output_type": "execute_result"
    }
   ],
   "source": [
    "len(df_bodacc)"
   ]
  },
  {
   "cell_type": "code",
   "execution_count": 12,
   "id": "3a91a0ad",
   "metadata": {},
   "outputs": [
    {
     "data": {
      "text/plain": [
       "900242"
      ]
     },
     "execution_count": 12,
     "metadata": {},
     "output_type": "execute_result"
    }
   ],
   "source": [
    "len(df_bodacc.SIREN.unique())"
   ]
  },
  {
   "cell_type": "code",
   "execution_count": 13,
   "id": "8e338678",
   "metadata": {},
   "outputs": [],
   "source": [
    "# keep only relevant categories\n",
    "df_bodacc = df_bodacc.loc[(df_bodacc['jugement_famille'] != 'Rétractation sur tierce opposition') & \n",
    "                          (df_bodacc['jugement_famille'] != 'Loi de 1967') &\n",
    "                          (df_bodacc['jugement_famille'] != \"Arrêt de la Cour d'Appel\")]"
   ]
  },
  {
   "cell_type": "code",
   "execution_count": 14,
   "id": "76e6c57f",
   "metadata": {},
   "outputs": [],
   "source": [
    "# convert to simple sub categories of judgements\n",
    "df_bodacc.loc[(df_bodacc['jugement_famille'] == 'Jugement prononçant') & (df_bodacc['jugement_nature'] != 'Jugement de conversion en liquidation judiciaire'), 'jugement_nature'] = 'Autre jugement'\n",
    "df_bodacc.loc[(df_bodacc['jugement_famille'] == 'Jugement de clôture') & (df_bodacc['jugement_nature'] != \"Jugement de clôture pour insuffisance d'actif\"), 'jugement_nature'] = 'Autre jugement'\n",
    "df_bodacc.loc[(df_bodacc['jugement_famille'] == \"Jugement d'ouverture\") & ((df_bodacc['jugement_nature'] != \"Jugement d'ouverture de liquidation judiciaire\") & (df_bodacc['jugement_nature'] != \"Jugement d'ouverture d'une procédure de redressement judiciaire\")), 'jugement_nature'] = 'Autre jugement'\n",
    "df_bodacc.loc[(df_bodacc['jugement_famille'] == \"Avis de dépôt\") & (df_bodacc['jugement_nature'] != \"Dépôt de l'état des créances\"), 'jugement_nature'] = 'Autre jugement'"
   ]
  },
  {
   "cell_type": "code",
   "execution_count": 15,
   "id": "f347b53d",
   "metadata": {},
   "outputs": [],
   "source": [
    "# simplify jugemetn nature for ouverture\n",
    "df_bodacc.loc[df_bodacc['jugement_nature'] == \"Jugement d'ouverture de liquidation judiciaire\", \"jugement_famille\"] = \"Jugement d'ouverture de liquidation\"\n",
    "df_bodacc.loc[df_bodacc['jugement_nature'] == \"Jugement d'ouverture d'une procédure de redressement judiciaire\", \"jugement_famille\"] = \"Jugement d'ouverture de redressement\"\n",
    "df_bodacc.loc[df_bodacc['jugement_nature'] == \"Autre jugement\", \"jugement_famille\"] = \"Jugement d'ouverture autre\""
   ]
  },
  {
   "cell_type": "code",
   "execution_count": 16,
   "id": "160b3887",
   "metadata": {},
   "outputs": [
    {
     "data": {
      "text/plain": [
       "2443796"
      ]
     },
     "execution_count": 16,
     "metadata": {},
     "output_type": "execute_result"
    }
   ],
   "source": [
    "len(df_bodacc)"
   ]
  },
  {
   "cell_type": "code",
   "execution_count": 17,
   "id": "73e9272d",
   "metadata": {},
   "outputs": [],
   "source": [
    "df_bodacc = df_bodacc[df_bodacc.numerodepartement.isin(['75', '77', '78', '91', '92', '93', '94', '95'])]"
   ]
  },
  {
   "cell_type": "code",
   "execution_count": 18,
   "id": "31ccef50",
   "metadata": {},
   "outputs": [
    {
     "data": {
      "text/plain": [
       "481844"
      ]
     },
     "execution_count": 18,
     "metadata": {},
     "output_type": "execute_result"
    }
   ],
   "source": [
    "len(df_bodacc)"
   ]
  },
  {
   "cell_type": "markdown",
   "id": "fde91243",
   "metadata": {},
   "source": [
    "### Format BODACC liquidation"
   ]
  },
  {
   "cell_type": "code",
   "execution_count": 20,
   "id": "a21f155f",
   "metadata": {},
   "outputs": [],
   "source": [
    "df_bodacc_liq = df_bodacc[df_bodacc.jugement_famille == \"Jugement d'ouverture de liquidation\"].drop_duplicates('SIREN',\n",
    "                                                                                                               keep='last')"
   ]
  },
  {
   "cell_type": "code",
   "execution_count": 19,
   "id": "16f66119",
   "metadata": {},
   "outputs": [
    {
     "name": "stderr",
     "output_type": "stream",
     "text": [
      "C:\\Users\\RémiJAYLET\\AppData\\Local\\Temp\\ipykernel_15672\\3860404512.py:3: SettingWithCopyWarning: \n",
      "A value is trying to be set on a copy of a slice from a DataFrame.\n",
      "Try using .loc[row_indexer,col_indexer] = value instead\n",
      "\n",
      "See the caveats in the documentation: https://pandas.pydata.org/pandas-docs/stable/user_guide/indexing.html#returning-a-view-versus-a-copy\n",
      "  siren_date['year'] = siren_date['dateparution'].apply(lambda x: str(x)[:4])\n"
     ]
    }
   ],
   "source": [
    "siren_date = df_bodacc[(df_bodacc.dateparution > '2020-01-01')]\n",
    "# format other type of date TO FIX\n",
    "siren_date['year'] = siren_date['dateparution'].apply(lambda x: str(x)[:4])\n",
    "siren_date = siren_date[siren_date['year'].isin(['2020', '2021', '2022', '2023'])]"
   ]
  },
  {
   "cell_type": "code",
   "execution_count": 21,
   "id": "6c4216af",
   "metadata": {},
   "outputs": [],
   "source": [
    "df_bodacc_liq = df_bodacc[df_bodacc.SIREN.isin(list(siren_date.SIREN))]"
   ]
  },
  {
   "cell_type": "code",
   "execution_count": 82,
   "id": "3b395a8e",
   "metadata": {},
   "outputs": [],
   "source": [
    "cloture_list = list(df_bodacc[df_bodacc.jugement_famille == \"Jugement de clôture\"].drop_duplicates('SIREN', keep='last').SIREN)"
   ]
  },
  {
   "cell_type": "code",
   "execution_count": 89,
   "id": "d2528634",
   "metadata": {},
   "outputs": [],
   "source": [
    "df_bodacc_liq = df_bodacc_liq[~df_bodacc_liq['SIREN'].isin(cloture_list)]"
   ]
  },
  {
   "cell_type": "code",
   "execution_count": 90,
   "id": "eedbcf12",
   "metadata": {},
   "outputs": [
    {
     "data": {
      "text/plain": [
       "11369"
      ]
     },
     "execution_count": 90,
     "metadata": {},
     "output_type": "execute_result"
    }
   ],
   "source": [
    "len(df_bodacc_liq)"
   ]
  },
  {
   "cell_type": "code",
   "execution_count": 91,
   "id": "9ff119e8",
   "metadata": {},
   "outputs": [
    {
     "data": {
      "text/html": [
       "<div>\n",
       "<style scoped>\n",
       "    .dataframe tbody tr th:only-of-type {\n",
       "        vertical-align: middle;\n",
       "    }\n",
       "\n",
       "    .dataframe tbody tr th {\n",
       "        vertical-align: top;\n",
       "    }\n",
       "\n",
       "    .dataframe thead th {\n",
       "        text-align: right;\n",
       "    }\n",
       "</style>\n",
       "<table border=\"1\" class=\"dataframe\">\n",
       "  <thead>\n",
       "    <tr style=\"text-align: right;\">\n",
       "      <th></th>\n",
       "      <th>id</th>\n",
       "      <th>dateparution</th>\n",
       "      <th>numeroannonce</th>\n",
       "      <th>numerodepartement</th>\n",
       "      <th>region_code</th>\n",
       "      <th>tribunal</th>\n",
       "      <th>commercant</th>\n",
       "      <th>ville</th>\n",
       "      <th>jugement_nature</th>\n",
       "      <th>jugement_famille</th>\n",
       "      <th>jugement_date</th>\n",
       "      <th>jugement_complement</th>\n",
       "      <th>SIREN</th>\n",
       "      <th>year</th>\n",
       "    </tr>\n",
       "  </thead>\n",
       "  <tbody>\n",
       "    <tr>\n",
       "      <th>2034846</th>\n",
       "      <td>A201800912458</td>\n",
       "      <td>2018-05-15</td>\n",
       "      <td>2458</td>\n",
       "      <td>92</td>\n",
       "      <td>11.0</td>\n",
       "      <td>TRIBUNAL DE COMMERCE DE NANTERRE</td>\n",
       "      <td>GRENELLE EVENTS</td>\n",
       "      <td>Paris</td>\n",
       "      <td>Jugement d'ouverture de liquidation judiciaire</td>\n",
       "      <td>Jugement d'ouverture de liquidation</td>\n",
       "      <td>2020-05-03</td>\n",
       "      <td>Jugement prononçant la liquidation judiciaire,...</td>\n",
       "      <td>820473312</td>\n",
       "      <td>2020</td>\n",
       "    </tr>\n",
       "    <tr>\n",
       "      <th>177512</th>\n",
       "      <td>A202000111777</td>\n",
       "      <td>2020-01-16</td>\n",
       "      <td>1777</td>\n",
       "      <td>77</td>\n",
       "      <td>11.0</td>\n",
       "      <td>TRIBUNAL DE COMMERCE DE MELUN</td>\n",
       "      <td>TSG</td>\n",
       "      <td>Vaux-le-Pénil</td>\n",
       "      <td>Jugement d'ouverture de liquidation judiciaire</td>\n",
       "      <td>Jugement d'ouverture de liquidation</td>\n",
       "      <td>2020-01-06</td>\n",
       "      <td>Jugement prononçant la liquidation judiciaire,...</td>\n",
       "      <td>377517057</td>\n",
       "      <td>2020</td>\n",
       "    </tr>\n",
       "    <tr>\n",
       "      <th>731964</th>\n",
       "      <td>A202000111950</td>\n",
       "      <td>2020-01-16</td>\n",
       "      <td>1950</td>\n",
       "      <td>95</td>\n",
       "      <td>11.0</td>\n",
       "      <td>TRIBUNAL DE COMMERCE DE PONTOISE</td>\n",
       "      <td>ALLURE FERMETURES, All.ferm</td>\n",
       "      <td>Baillet-en-France</td>\n",
       "      <td>Jugement d'ouverture de liquidation judiciaire</td>\n",
       "      <td>Jugement d'ouverture de liquidation</td>\n",
       "      <td>2020-01-06</td>\n",
       "      <td>Jugement prononçant la liquidation judiciaire,...</td>\n",
       "      <td>508356821</td>\n",
       "      <td>2020</td>\n",
       "    </tr>\n",
       "  </tbody>\n",
       "</table>\n",
       "</div>"
      ],
      "text/plain": [
       "                    id dateparution  numeroannonce numerodepartement   \n",
       "2034846  A201800912458   2018-05-15           2458                92  \\\n",
       "177512   A202000111777   2020-01-16           1777                77   \n",
       "731964   A202000111950   2020-01-16           1950                95   \n",
       "\n",
       "         region_code                          tribunal   \n",
       "2034846         11.0  TRIBUNAL DE COMMERCE DE NANTERRE  \\\n",
       "177512          11.0     TRIBUNAL DE COMMERCE DE MELUN   \n",
       "731964          11.0  TRIBUNAL DE COMMERCE DE PONTOISE   \n",
       "\n",
       "                          commercant              ville   \n",
       "2034846              GRENELLE EVENTS              Paris  \\\n",
       "177512                           TSG      Vaux-le-Pénil   \n",
       "731964   ALLURE FERMETURES, All.ferm  Baillet-en-France   \n",
       "\n",
       "                                        jugement_nature   \n",
       "2034846  Jugement d'ouverture de liquidation judiciaire  \\\n",
       "177512   Jugement d'ouverture de liquidation judiciaire   \n",
       "731964   Jugement d'ouverture de liquidation judiciaire   \n",
       "\n",
       "                            jugement_famille jugement_date   \n",
       "2034846  Jugement d'ouverture de liquidation    2020-05-03  \\\n",
       "177512   Jugement d'ouverture de liquidation    2020-01-06   \n",
       "731964   Jugement d'ouverture de liquidation    2020-01-06   \n",
       "\n",
       "                                       jugement_complement      SIREN  year  \n",
       "2034846  Jugement prononçant la liquidation judiciaire,...  820473312  2020  \n",
       "177512   Jugement prononçant la liquidation judiciaire,...  377517057  2020  \n",
       "731964   Jugement prononçant la liquidation judiciaire,...  508356821  2020  "
      ]
     },
     "execution_count": 91,
     "metadata": {},
     "output_type": "execute_result"
    }
   ],
   "source": [
    "df_bodacc_liq.head(3)"
   ]
  },
  {
   "cell_type": "markdown",
   "id": "18c80c13",
   "metadata": {},
   "source": [
    "### Import other bases"
   ]
  },
  {
   "cell_type": "code",
   "execution_count": 24,
   "id": "43150457",
   "metadata": {},
   "outputs": [
    {
     "name": "stderr",
     "output_type": "stream",
     "text": [
      "C:\\Users\\RémiJAYLET\\AppData\\Local\\Temp\\ipykernel_15672\\706957035.py:2: DtypeWarning: Columns (6) have mixed types. Specify dtype option on import or set low_memory=False.\n",
      "  SIREN = pd.read_csv('../0_data/base_sirene/StockUniteLegale_utf8.csv',\n"
     ]
    }
   ],
   "source": [
    "# get SIREN of companies that are PM\n",
    "SIREN = pd.read_csv('../0_data/base_sirene/StockUniteLegale_utf8.csv', \n",
    "                    usecols=['siren', 'denominationUniteLegale', 'prenom1UniteLegale'],\n",
    "                    dtype = {'siren': str})\n",
    "SIREN = SIREN[SIREN.prenom1UniteLegale.isna()]"
   ]
  },
  {
   "cell_type": "code",
   "execution_count": 25,
   "id": "ca53137e",
   "metadata": {},
   "outputs": [],
   "source": [
    "df_bodacc_liq = df_bodacc_liq[df_bodacc_liq.SIREN.isin(list(SIREN.siren))]"
   ]
  },
  {
   "cell_type": "code",
   "execution_count": 26,
   "id": "88d6063e",
   "metadata": {},
   "outputs": [
    {
     "data": {
      "text/plain": [
       "125538"
      ]
     },
     "execution_count": 26,
     "metadata": {},
     "output_type": "execute_result"
    }
   ],
   "source": [
    "len(df_bodacc_liq)"
   ]
  },
  {
   "cell_type": "code",
   "execution_count": null,
   "id": "cdaca3b3",
   "metadata": {},
   "outputs": [],
   "source": [
    "df_parc1 = pd.concat([pd.read_csv(i,\n",
    "                                  sep=';',\n",
    "                                  encoding='latin',\n",
    "                                  low_memory=False,\n",
    "                                  dtype={'Département (Champ géographique)' : str,\n",
    "                                         'Code Direction (Champ géographique)' : str,\n",
    "                                         'Code Commune (Champ géographique)' : str,\n",
    "                                         'Préfixe (Références cadastrales)' : str,\n",
    "                                         'Section (Références cadastrales)' : str,\n",
    "                                         'N° plan (Références cadastrales)' : str}) for i in glob.glob(\n",
    "    \"../0_data/parcelles/Fichier des parcelles (situation 2022)-dept 01 à 61/Fichier des parcelles (situation 2022)-dpts 01 à 61/*.txt\", recursive=True)])\n",
    "\n",
    "df_parc2 = pd.concat([pd.read_csv(i, sep=';',\n",
    "                                  encoding='latin',\n",
    "                                  low_memory=False,\n",
    "                                  dtype={'Département (Champ géographique)' : str,\n",
    "                                         'Code Direction (Champ géographique)' : str,\n",
    "                                         'Code Commune (Champ géographique)' : str,\n",
    "                                         'Préfixe (Références cadastrales)' : str,\n",
    "                                         'Section (Références cadastrales)' : str,\n",
    "                                         'N° plan (Références cadastrales)' : str}) for i in glob.glob(\n",
    "    \"../0_data/parcelles/Fichier des parcelles (situation 2022)-dept 62 à 976/Fichier des parcelles (situation 2022)-dpts 62 à 976/*.txt\", recursive=True)])\n",
    "\n",
    "df_parc = pd.concat([df_parc1, df_parc2], axis=0)"
   ]
  },
  {
   "cell_type": "code",
   "execution_count": null,
   "id": "459cf13a",
   "metadata": {},
   "outputs": [],
   "source": [
    "df_loc = pd.concat([pd.read_csv(i,\n",
    "                                sep=';',\n",
    "                                encoding='latin',\n",
    "                                low_memory=False,\n",
    "                                dtype={'Département (Champ géographique)' : str,\n",
    "                                         'Code Direction (Champ géographique)' : str,\n",
    "                                         'Code Commune (Champ géographique)' : str,\n",
    "                                         'Préfixe (Références cadastrales)' : str,\n",
    "                                         'Section (Références cadastrales)' : str,\n",
    "                                         'N° plan (Références cadastrales)' : str}) for i in glob.glob(\n",
    "    \"../0_data/locaux/Fichier des locaux/*.txt\",\n",
    "    recursive=True)])"
   ]
  },
  {
   "cell_type": "code",
   "execution_count": null,
   "id": "e0d56a09",
   "metadata": {},
   "outputs": [],
   "source": [
    "SIRET = pd.read_csv('../0_data/base_sirene/StockEtablissement_utf8.csv',\n",
    "                    usecols=['siren', 'siret', 'libelleVoieEtablissement', 'libelleCommuneEtablissement'],\n",
    "                    dtype = {'siren': str, 'siret': str, 'libelleVoieEtablissement': str, 'libelleCommuneEtablissement': str})"
   ]
  },
  {
   "cell_type": "markdown",
   "id": "3f4ec45b",
   "metadata": {},
   "source": [
    "### Analysis"
   ]
  },
  {
   "cell_type": "code",
   "execution_count": null,
   "id": "80e4cf4e",
   "metadata": {},
   "outputs": [],
   "source": [
    "df = df_bodacc_liq.copy()"
   ]
  },
  {
   "cell_type": "markdown",
   "id": "50a08c1d",
   "metadata": {},
   "source": [
    "#### With parcelles"
   ]
  },
  {
   "cell_type": "code",
   "execution_count": null,
   "id": "9c01ddaa",
   "metadata": {},
   "outputs": [],
   "source": [
    "parc_bodacc = df.merge(df_parc, left_on='SIREN',\n",
    "                       right_on = 'N° SIREN (Propriétaire(s) parcelle)',\n",
    "                       how='left')"
   ]
  },
  {
   "cell_type": "code",
   "execution_count": null,
   "id": "1b2454ac",
   "metadata": {},
   "outputs": [],
   "source": [
    "parc_bodacc = parc_bodacc[~parc_bodacc['N° SIREN (Propriétaire(s) parcelle)'].isna()]\n",
    "parc_bodacc = parc_bodacc.drop_duplicates(['SIREN', 'jugement_date', 'Département (Champ géographique)', \n",
    "                                           'Code Commune (Champ géographique)', 'Section (Références cadastrales)',\n",
    "                                           'Préfixe (Références cadastrales)', 'N° plan (Références cadastrales)'])"
   ]
  },
  {
   "cell_type": "code",
   "execution_count": null,
   "id": "46f56249",
   "metadata": {},
   "outputs": [],
   "source": [
    "parc_bodacc"
   ]
  },
  {
   "cell_type": "code",
   "execution_count": null,
   "id": "5eec49b9",
   "metadata": {},
   "outputs": [],
   "source": [
    "print('Number of parcelles concerned :', len(parc_bodacc))"
   ]
  },
  {
   "cell_type": "code",
   "execution_count": null,
   "id": "593c57de",
   "metadata": {},
   "outputs": [],
   "source": [
    "print('Number of companies concerned :', len(parc_bodacc.SIREN.unique()))"
   ]
  },
  {
   "cell_type": "code",
   "execution_count": null,
   "id": "6d56b693",
   "metadata": {},
   "outputs": [],
   "source": [
    "parc_bodacc['Préfixe (Références cadastrales)'] = parc_bodacc['Section (Références cadastrales)'].apply(lambda x: '000' if len(x) == 2 else '0000')\n",
    "parc_bodacc['parcelle_id'] = parc_bodacc['Département (Champ géographique)'] + parc_bodacc['Code Commune (Champ géographique)'] + parc_bodacc['Préfixe (Références cadastrales)'] + parc_bodacc['Section (Références cadastrales)']  + parc_bodacc['N° plan (Références cadastrales)']"
   ]
  },
  {
   "cell_type": "code",
   "execution_count": null,
   "id": "ad1bd92f",
   "metadata": {},
   "outputs": [],
   "source": [
    "list_cities = ['ALFORTVILLE', 'CHAMPIGNY SUR MARNE', 'FONTENAY SOUS BOIS',\n",
    "               'ST MAUR DES FOSSES', 'ASNIERES-SUR-SEINE', 'CLICHY', 'LIVRY GARGAN']\n",
    "\n",
    "parc_bodacc[parc_bodacc['Nom Commune (Champ géographique)'].isin(list_cities)]"
   ]
  },
  {
   "cell_type": "markdown",
   "id": "cb6a4c80",
   "metadata": {},
   "source": [
    "#### With locaux"
   ]
  },
  {
   "cell_type": "code",
   "execution_count": null,
   "id": "992940d4",
   "metadata": {},
   "outputs": [],
   "source": [
    "loc_bodacc = df.merge(df_loc,\n",
    "                      left_on='SIREN',\n",
    "                      right_on = 'N° SIREN (Propriétaire(s) du local)',\n",
    "                      how='left')"
   ]
  },
  {
   "cell_type": "code",
   "execution_count": null,
   "id": "a1fe478b",
   "metadata": {},
   "outputs": [],
   "source": [
    "loc_bodacc = loc_bodacc[~loc_bodacc['N° SIREN (Propriétaire(s) du local)'].isna()]\n",
    "loc_bodacc = loc_bodacc.drop_duplicates(['SIREN', 'jugement_date', 'Département (Champ géographique)', \n",
    "                                         'Code Commune (Champ géographique)', 'Section (Références cadastrales)',\n",
    "                                         'Préfixe (Références cadastrales)', 'N° plan (Références cadastrales)'])"
   ]
  },
  {
   "cell_type": "code",
   "execution_count": null,
   "id": "6c9c59db",
   "metadata": {},
   "outputs": [],
   "source": [
    "loc_bodacc"
   ]
  },
  {
   "cell_type": "code",
   "execution_count": null,
   "id": "a8b68270",
   "metadata": {},
   "outputs": [],
   "source": [
    "print('Number of locaux concerned :', len(loc_bodacc))"
   ]
  },
  {
   "cell_type": "code",
   "execution_count": null,
   "id": "f1962eab",
   "metadata": {},
   "outputs": [],
   "source": [
    "loc_bodacc['Préfixe (Références cadastrales)'] = loc_bodacc['Section (Références cadastrales)'].apply(lambda x: '000' if len(x) == 2 else '0000')\n",
    "df_loc['Préfixe (Références cadastrales)'] = df_loc['Section (Références cadastrales)'].apply(lambda x: '000' if len(str(x)) == 2 else '0000')\n",
    "\n",
    "loc_bodacc['parcelle_id'] = loc_bodacc['Département (Champ géographique)'] + loc_bodacc['Code Commune (Champ géographique)']+ loc_bodacc['Préfixe (Références cadastrales)'] + loc_bodacc['Section (Références cadastrales)']  + loc_bodacc['N° plan (Références cadastrales)']\n",
    "df_loc['parcelle_id'] = df_loc['Département (Champ géographique)'] + df_loc['Code Commune (Champ géographique)'] + df_loc['Préfixe (Références cadastrales)']  + df_loc['Section (Références cadastrales)'] + df_loc['N° plan (Références cadastrales)']"
   ]
  },
  {
   "cell_type": "code",
   "execution_count": null,
   "id": "60adfbbc",
   "metadata": {},
   "outputs": [],
   "source": [
    "df_loc_perimetre = df_loc[df_loc['parcelle_id'].isin(loc_bodacc['parcelle_id'].unique())]\n",
    "count_per_loc = df_loc_perimetre[['parcelle_id','N° SIREN (Propriétaire(s) du local)']].groupby('parcelle_id').count()\n",
    "print('Proportion of locaux  where there is unique SIREN in it: ',\n",
    "      round(100*len(count_per_loc[count_per_loc['N° SIREN (Propriétaire(s) du local)']!=1])/len(count_per_loc),2), '%' )"
   ]
  },
  {
   "cell_type": "markdown",
   "id": "78012294",
   "metadata": {},
   "source": [
    "#### With SIRET"
   ]
  },
  {
   "cell_type": "code",
   "execution_count": null,
   "id": "beea4d17",
   "metadata": {},
   "outputs": [],
   "source": [
    "siret_bodacc = df.merge(SIRET, left_on='SIREN',\n",
    "                               right_on = 'siren',\n",
    "                               how='left')"
   ]
  },
  {
   "cell_type": "code",
   "execution_count": null,
   "id": "9b1a096c",
   "metadata": {},
   "outputs": [],
   "source": [
    "len(siret_bodacc)"
   ]
  },
  {
   "cell_type": "code",
   "execution_count": null,
   "id": "e09071eb",
   "metadata": {},
   "outputs": [],
   "source": [
    "siret_bodacc_loc = siret_bodacc.merge(loc_bodacc, how='left',\n",
    "                                      left_on=['siren', 'libelleVoieEtablissement', 'libelleCommuneEtablissement'],\n",
    "                                      right_on=['N° SIREN (Propriétaire(s) du local)',\n",
    "                                                'Nom voie (Adresse du local)', 'Nom Commune (Champ géographique)'])"
   ]
  },
  {
   "cell_type": "code",
   "execution_count": null,
   "id": "116c4ab1",
   "metadata": {},
   "outputs": [],
   "source": [
    "siret_bodacc_loc = siret_bodacc_loc[['siren', 'siret', 'libelleVoieEtablissement', 'libelleCommuneEtablissement',\n",
    "                  'Code Commune (Champ géographique)', 'Nom Commune (Champ géographique)',\n",
    "                  'Bâtiment (Identification du local)',\n",
    "                  'Entrée (Identification du local)', 'Niveau (Identification du local)',\n",
    "                  'Porte (Identification du local)', 'N° voirie (Adresse du local)',\n",
    "                  'Indice de répétition (Adresse du local)',\n",
    "                  'Code voie MAJIC (Adresse du local)', 'Code voie rivoli (Adresse du local)', 'Nature voie (Adresse du local)',\n",
    "                  'Nom voie (Adresse du local)', 'Code droit (Propriétaire(s) du local)',\n",
    "                  'N° MAJIC (Propriétaire(s) du local)',\n",
    "                  'N° SIREN (Propriétaire(s) du local)',\n",
    "                  'Groupe personne (Propriétaire(s) du local)',\n",
    "                  'Forme juridique (Propriétaire(s) du local)',\n",
    "                  'Forme juridique abrégée (Propriétaire(s) du local)',\n",
    "                  'Dénomination (Propriétaire(s) du local)', 'parcelle_id']]\n",
    "siret_bodacc_loc = siret_bodacc_loc[~siret_bodacc_loc['parcelle_id'].isna()]"
   ]
  },
  {
   "cell_type": "code",
   "execution_count": null,
   "id": "9553d3ba",
   "metadata": {},
   "outputs": [],
   "source": [
    "len(siret_bodacc_loc)"
   ]
  },
  {
   "cell_type": "code",
   "execution_count": null,
   "id": "879bd8ce",
   "metadata": {},
   "outputs": [],
   "source": [
    "siret_bodacc_loc"
   ]
  },
  {
   "cell_type": "code",
   "execution_count": null,
   "id": "d81c2af9",
   "metadata": {},
   "outputs": [],
   "source": []
  }
 ],
 "metadata": {
  "kernelspec": {
   "display_name": "Python 3 (ipykernel)",
   "language": "python",
   "name": "python3"
  },
  "language_info": {
   "codemirror_mode": {
    "name": "ipython",
    "version": 3
   },
   "file_extension": ".py",
   "mimetype": "text/x-python",
   "name": "python",
   "nbconvert_exporter": "python",
   "pygments_lexer": "ipython3",
   "version": "3.11.3"
  }
 },
 "nbformat": 4,
 "nbformat_minor": 5
}
