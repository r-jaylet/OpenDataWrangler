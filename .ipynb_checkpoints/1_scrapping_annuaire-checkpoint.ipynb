{
 "cells": [
  {
   "cell_type": "code",
   "execution_count": 1,
   "metadata": {},
   "outputs": [],
   "source": [
    "import requests\n",
    "import json\n",
    "import pandas as pd\n",
    "from pandas import json_normalize \n",
    "import numpy as np\n",
    "import time\n",
    "import datetime\n",
    "from datetime import datetime\n",
    "from IPython.display import clear_output"
   ]
  },
  {
   "cell_type": "code",
   "execution_count": 2,
   "metadata": {},
   "outputs": [],
   "source": [
    "from selenium import webdriver\n",
    "from selenium.webdriver.common.keys import Keys\n",
    "from selenium.webdriver.common.by import By\n",
    "from selenium.webdriver.support.ui import WebDriverWait\n",
    "from selenium.webdriver.support import expected_conditions as EC\n",
    "from selenium import webdriver\n",
    "from bs4 import BeautifulSoup\n",
    "import re as re\n",
    "from selenium import webdriver\n",
    "from webdriver_manager.chrome import ChromeDriverManager\n",
    "import bs4 as bs"
   ]
  },
  {
   "cell_type": "code",
   "execution_count": 3,
   "metadata": {},
   "outputs": [
    {
     "name": "stderr",
     "output_type": "stream",
     "text": [
      "C:\\Users\\RémiJAYLET\\AppData\\Local\\Temp\\ipykernel_19388\\1679302152.py:3: DeprecationWarning: executable_path has been deprecated, please pass in a Service object\n",
      "  driver = webdriver.Chrome(ChromeDriverManager().install())\n"
     ]
    }
   ],
   "source": [
    "PATH = r'‪C:\\chromedriver.exe'\n",
    "\n",
    "driver = webdriver.Chrome(ChromeDriverManager().install())"
   ]
  },
  {
   "cell_type": "code",
   "execution_count": 4,
   "metadata": {},
   "outputs": [],
   "source": [
    "req = \"VINCI IMMOBILIER\"\n",
    "req = '+'.join(req.lower().split(' '))"
   ]
  },
  {
   "cell_type": "code",
   "execution_count": 5,
   "metadata": {},
   "outputs": [],
   "source": [
    "#list_test = [\"ORANGE\", \"SFR\", \"BOUYGUES TELECOM\", \"VIRGIN MOBILE\"]\n",
    "list_test = ['VINCI IMMOBILIER']\n",
    "list_test = ['+'.join(comp.lower().split(' ')) for comp in list_test]"
   ]
  },
  {
   "cell_type": "code",
   "execution_count": 6,
   "metadata": {},
   "outputs": [],
   "source": [
    "start_time = time.time()"
   ]
  },
  {
   "cell_type": "code",
   "execution_count": 7,
   "metadata": {},
   "outputs": [],
   "source": [
    "#for req in list_test:\n",
    "req = \"VINCI IMMOBILIER\"\n",
    "req = '+'.join(req.lower().split(' '))\n",
    "driver.get(\"https://annuaire-entreprises.data.gouv.fr/rechercher?terme=\"+req)\n",
    "\n",
    "source=driver.page_source\n",
    "doc = BeautifulSoup(source, \"lxml\")\n",
    "\n",
    "\n",
    "t = True\n",
    "while t == True :\n",
    "    try :\n",
    "        link = doc.find(\"a\",{\"class\":'fr-pagination__link fr-pagination__link--next fr-pagination__link--lg-label'})[\"href\"]\n",
    "        nxt=driver.find_element(By.XPATH,\"//a[@class='fr-pagination__link fr-pagination__link--next fr-pagination__link--lg-label']\")\n",
    "        nxt.click() \n",
    "        source=driver.page_source\n",
    "        doc = BeautifulSoup(source, \"lxml\")\n",
    "        data = json.loads(doc.find(\"script\", {\"type\":\"application/json\"}).contents[0])['props']['pageProps']['results']['results']\n",
    "        data_res = [{key : d[key] for key in ['siren','etatAdministratif','nomComplet']} for d in data]\n",
    "        df = pd.concat([df,pd.DataFrame(data_res)])\n",
    "    except :\n",
    "        t = False\n",
    "        nb_pages= json.loads(doc.find(\"script\", {\"type\":\"application/json\"}).contents[0])['props']['pageProps']['results']['currentPage']\n",
    "        pass"
   ]
  },
  {
   "cell_type": "code",
   "execution_count": 8,
   "metadata": {},
   "outputs": [
    {
     "name": "stdout",
     "output_type": "stream",
     "text": [
      "total time:  8.54\n",
      "avg time per page:  4.27\n"
     ]
    }
   ],
   "source": [
    "total_time = time.time()-start_time\n",
    "print('total time: ', round(total_time, 2))\n",
    "print('avg time per page: ', round(total_time/nb_pages, 2))"
   ]
  },
  {
   "cell_type": "code",
   "execution_count": 9,
   "metadata": {},
   "outputs": [
    {
     "name": "stdout",
     "output_type": "stream",
     "text": [
      "2\n"
     ]
    }
   ],
   "source": [
    "print(nb_pages)"
   ]
  },
  {
   "cell_type": "markdown",
   "metadata": {},
   "source": [
    "### Try dirigeant"
   ]
  },
  {
   "cell_type": "code",
   "execution_count": 4,
   "metadata": {},
   "outputs": [],
   "source": [
    "c = pd.read_csv('../0_data/df_jug_ouverture_fermeture.csv', sep=';')"
   ]
  },
  {
   "cell_type": "code",
   "execution_count": 5,
   "metadata": {},
   "outputs": [],
   "source": [
    "list_siren = list(c[26418:].SIREN.unique())"
   ]
  },
  {
   "cell_type": "code",
   "execution_count": 6,
   "metadata": {},
   "outputs": [
    {
     "data": {
      "text/plain": [
       "10000"
      ]
     },
     "execution_count": 6,
     "metadata": {},
     "output_type": "execute_result"
    }
   ],
   "source": [
    "len(list_siren)"
   ]
  },
  {
   "cell_type": "code",
   "execution_count": 7,
   "metadata": {},
   "outputs": [],
   "source": [
    "list_company = []"
   ]
  },
  {
   "cell_type": "code",
   "execution_count": 18,
   "metadata": {},
   "outputs": [
    {
     "name": "stdout",
     "output_type": "stream",
     "text": [
      "time searching : 94.96 s\n",
      "time searching : 189.56 s\n",
      "time searching : 289.33 s\n",
      "time searching : 392.55 s\n",
      "time searching : 494.88 s\n",
      "time searching : 596.25 s\n",
      "time searching : 704.91 s\n",
      "time searching : 810.89 s\n",
      "time searching : 915.49 s\n",
      "time searching : 1019.68 s\n",
      "time searching : 1125.93 s\n",
      "time searching : 1232.79 s\n",
      "time searching : 1341.81 s\n",
      "time searching : 1486.93 s\n",
      "time searching : 1665.69 s\n",
      "time searching : 1772.75 s\n",
      "time searching : 1881.93 s\n",
      "time searching : 1991.09 s\n",
      "time searching : 2110.89 s\n",
      "time searching : 2219.47 s\n",
      "time searching : 2328.04 s\n",
      "time searching : 2435.34 s\n",
      "time searching : 2542.76 s\n",
      "time searching : 2648.81 s\n",
      "time searching : 2756.97 s\n",
      "time searching : 2863.17 s\n",
      "time searching : 2969.92 s\n",
      "time searching : 3079.47 s\n",
      "time searching : 3185.58 s\n",
      "time searching : 3295.97 s\n",
      "time searching : 3405.07 s\n",
      "time searching : 3516.76 s\n",
      "time searching : 3622.42 s\n",
      "time searching : 3730.44 s\n",
      "time searching : 3841.42 s\n",
      "time searching : 3947.71 s\n",
      "time searching : 4063.77 s\n",
      "time searching : 4180.24 s\n",
      "time searching : 4291.49 s\n",
      "time searching : 4402.11 s\n"
     ]
    }
   ],
   "source": [
    "init = time.time()\n",
    "i = 0\n",
    "for siren in list_siren[6000:]:\n",
    "    i+=1\n",
    "    company = {}\n",
    "    \n",
    "    driver.get(\"https://annuaire-entreprises.data.gouv.fr/dirigeants/\"+str(siren))\n",
    "    source=driver.page_source\n",
    "    doc = BeautifulSoup(source, \"lxml\")\n",
    "\n",
    "    link = doc.find_all(\"td\",{\"class\":'jsx-2305131526'})\n",
    "    text = [l.text for l in link]\n",
    "    #print(text)\n",
    "    company['siren'] = siren\n",
    "    company['text'] = text\n",
    "    list_company.append(company)\n",
    "    \n",
    "    time.sleep(0.8)\n",
    "\n",
    "    if i%100 == 0:\n",
    "        print('time searching :', round(time.time() - init, 2), 's')"
   ]
  },
  {
   "cell_type": "code",
   "execution_count": 19,
   "metadata": {},
   "outputs": [],
   "source": [
    "a = pd.DataFrame.from_records(list_company)"
   ]
  },
  {
   "cell_type": "code",
   "execution_count": 20,
   "metadata": {},
   "outputs": [
    {
     "data": {
      "text/html": [
       "<div>\n",
       "<style scoped>\n",
       "    .dataframe tbody tr th:only-of-type {\n",
       "        vertical-align: middle;\n",
       "    }\n",
       "\n",
       "    .dataframe tbody tr th {\n",
       "        vertical-align: top;\n",
       "    }\n",
       "\n",
       "    .dataframe thead th {\n",
       "        text-align: right;\n",
       "    }\n",
       "</style>\n",
       "<table border=\"1\" class=\"dataframe\">\n",
       "  <thead>\n",
       "    <tr style=\"text-align: right;\">\n",
       "      <th></th>\n",
       "      <th>siren</th>\n",
       "      <th>text</th>\n",
       "    </tr>\n",
       "  </thead>\n",
       "  <tbody>\n",
       "    <tr>\n",
       "      <th>4544</th>\n",
       "      <td>907754444</td>\n",
       "      <td>[Gérant, Davide MINGOLLA, né(e) en novembre 19...</td>\n",
       "    </tr>\n",
       "    <tr>\n",
       "      <th>4545</th>\n",
       "      <td>907771265</td>\n",
       "      <td>[Président, Rachid OUSSAIH, né(e) en novembre ...</td>\n",
       "    </tr>\n",
       "    <tr>\n",
       "      <th>4546</th>\n",
       "      <td>907804330</td>\n",
       "      <td>[Président, Samy DJAIL, né(e) en mai 1995, → v...</td>\n",
       "    </tr>\n",
       "    <tr>\n",
       "      <th>4547</th>\n",
       "      <td>907872469</td>\n",
       "      <td>[Président, Fredy JOUBERT, né(e) en octobre 19...</td>\n",
       "    </tr>\n",
       "    <tr>\n",
       "      <th>4548</th>\n",
       "      <td>907940571</td>\n",
       "      <td>[Président, Anis JELITI, né(e) en mars 1987, →...</td>\n",
       "    </tr>\n",
       "    <tr>\n",
       "      <th>...</th>\n",
       "      <td>...</td>\n",
       "      <td>...</td>\n",
       "    </tr>\n",
       "    <tr>\n",
       "      <th>4639</th>\n",
       "      <td>973203433</td>\n",
       "      <td>[Président, Franck DISPOT, né(e) en septembre ...</td>\n",
       "    </tr>\n",
       "    <tr>\n",
       "      <th>4640</th>\n",
       "      <td>973204050</td>\n",
       "      <td>[Gérant, MR CAVANNA DOMINIQUE, né(e) en mars 1...</td>\n",
       "    </tr>\n",
       "    <tr>\n",
       "      <th>4641</th>\n",
       "      <td>997596317</td>\n",
       "      <td>[Commissaire aux comptes suppléant, Michel COQ...</td>\n",
       "    </tr>\n",
       "    <tr>\n",
       "      <th>4642</th>\n",
       "      <td>998269708</td>\n",
       "      <td>[Commissaire aux comptes suppléant, Bernard HI...</td>\n",
       "    </tr>\n",
       "    <tr>\n",
       "      <th>4643</th>\n",
       "      <td>998690606</td>\n",
       "      <td>[Gérant, Pierre SANTA MARIA, né(e) en février ...</td>\n",
       "    </tr>\n",
       "  </tbody>\n",
       "</table>\n",
       "<p>100 rows × 2 columns</p>\n",
       "</div>"
      ],
      "text/plain": [
       "          siren                                               text\n",
       "4544  907754444  [Gérant, Davide MINGOLLA, né(e) en novembre 19...\n",
       "4545  907771265  [Président, Rachid OUSSAIH, né(e) en novembre ...\n",
       "4546  907804330  [Président, Samy DJAIL, né(e) en mai 1995, → v...\n",
       "4547  907872469  [Président, Fredy JOUBERT, né(e) en octobre 19...\n",
       "4548  907940571  [Président, Anis JELITI, né(e) en mars 1987, →...\n",
       "...         ...                                                ...\n",
       "4639  973203433  [Président, Franck DISPOT, né(e) en septembre ...\n",
       "4640  973204050  [Gérant, MR CAVANNA DOMINIQUE, né(e) en mars 1...\n",
       "4641  997596317  [Commissaire aux comptes suppléant, Michel COQ...\n",
       "4642  998269708  [Commissaire aux comptes suppléant, Bernard HI...\n",
       "4643  998690606  [Gérant, Pierre SANTA MARIA, né(e) en février ...\n",
       "\n",
       "[100 rows x 2 columns]"
      ]
     },
     "execution_count": 20,
     "metadata": {},
     "output_type": "execute_result"
    }
   ],
   "source": [
    "a.tail(100)"
   ]
  },
  {
   "cell_type": "code",
   "execution_count": 21,
   "metadata": {},
   "outputs": [
    {
     "data": {
      "text/html": [
       "<div>\n",
       "<style scoped>\n",
       "    .dataframe tbody tr th:only-of-type {\n",
       "        vertical-align: middle;\n",
       "    }\n",
       "\n",
       "    .dataframe tbody tr th {\n",
       "        vertical-align: top;\n",
       "    }\n",
       "\n",
       "    .dataframe thead th {\n",
       "        text-align: right;\n",
       "    }\n",
       "</style>\n",
       "<table border=\"1\" class=\"dataframe\">\n",
       "  <thead>\n",
       "    <tr style=\"text-align: right;\">\n",
       "      <th></th>\n",
       "      <th>siren</th>\n",
       "      <th>text</th>\n",
       "    </tr>\n",
       "  </thead>\n",
       "  <tbody>\n",
       "    <tr>\n",
       "      <th>0</th>\n",
       "      <td>841069750</td>\n",
       "      <td>[Président, Pierre FAVRE, né(e) en mai 1991, →...</td>\n",
       "    </tr>\n",
       "    <tr>\n",
       "      <th>1</th>\n",
       "      <td>841070089</td>\n",
       "      <td>[Président, Mieczyslaw DENYSENKO, né(e) en jui...</td>\n",
       "    </tr>\n",
       "    <tr>\n",
       "      <th>2</th>\n",
       "      <td>841078413</td>\n",
       "      <td>[Président, Michaël BEN MECHICHI, né(e) en sep...</td>\n",
       "    </tr>\n",
       "    <tr>\n",
       "      <th>3</th>\n",
       "      <td>841080559</td>\n",
       "      <td>[Gérant, Sandro MOUTOUSSAMY, né(e) en avril 19...</td>\n",
       "    </tr>\n",
       "    <tr>\n",
       "      <th>4</th>\n",
       "      <td>841080617</td>\n",
       "      <td>[Président, Iskander EL HABIB, né(e) en septem...</td>\n",
       "    </tr>\n",
       "    <tr>\n",
       "      <th>...</th>\n",
       "      <td>...</td>\n",
       "      <td>...</td>\n",
       "    </tr>\n",
       "    <tr>\n",
       "      <th>4639</th>\n",
       "      <td>973203433</td>\n",
       "      <td>[Président, Franck DISPOT, né(e) en septembre ...</td>\n",
       "    </tr>\n",
       "    <tr>\n",
       "      <th>4640</th>\n",
       "      <td>973204050</td>\n",
       "      <td>[Gérant, MR CAVANNA DOMINIQUE, né(e) en mars 1...</td>\n",
       "    </tr>\n",
       "    <tr>\n",
       "      <th>4641</th>\n",
       "      <td>997596317</td>\n",
       "      <td>[Commissaire aux comptes suppléant, Michel COQ...</td>\n",
       "    </tr>\n",
       "    <tr>\n",
       "      <th>4642</th>\n",
       "      <td>998269708</td>\n",
       "      <td>[Commissaire aux comptes suppléant, Bernard HI...</td>\n",
       "    </tr>\n",
       "    <tr>\n",
       "      <th>4643</th>\n",
       "      <td>998690606</td>\n",
       "      <td>[Gérant, Pierre SANTA MARIA, né(e) en février ...</td>\n",
       "    </tr>\n",
       "  </tbody>\n",
       "</table>\n",
       "<p>4644 rows × 2 columns</p>\n",
       "</div>"
      ],
      "text/plain": [
       "          siren                                               text\n",
       "0     841069750  [Président, Pierre FAVRE, né(e) en mai 1991, →...\n",
       "1     841070089  [Président, Mieczyslaw DENYSENKO, né(e) en jui...\n",
       "2     841078413  [Président, Michaël BEN MECHICHI, né(e) en sep...\n",
       "3     841080559  [Gérant, Sandro MOUTOUSSAMY, né(e) en avril 19...\n",
       "4     841080617  [Président, Iskander EL HABIB, né(e) en septem...\n",
       "...         ...                                                ...\n",
       "4639  973203433  [Président, Franck DISPOT, né(e) en septembre ...\n",
       "4640  973204050  [Gérant, MR CAVANNA DOMINIQUE, né(e) en mars 1...\n",
       "4641  997596317  [Commissaire aux comptes suppléant, Michel COQ...\n",
       "4642  998269708  [Commissaire aux comptes suppléant, Bernard HI...\n",
       "4643  998690606  [Gérant, Pierre SANTA MARIA, né(e) en février ...\n",
       "\n",
       "[4644 rows x 2 columns]"
      ]
     },
     "execution_count": 21,
     "metadata": {},
     "output_type": "execute_result"
    }
   ],
   "source": [
    "a"
   ]
  },
  {
   "cell_type": "code",
   "execution_count": 24,
   "metadata": {},
   "outputs": [
    {
     "data": {
      "text/html": [
       "<div>\n",
       "<style scoped>\n",
       "    .dataframe tbody tr th:only-of-type {\n",
       "        vertical-align: middle;\n",
       "    }\n",
       "\n",
       "    .dataframe tbody tr th {\n",
       "        vertical-align: top;\n",
       "    }\n",
       "\n",
       "    .dataframe thead th {\n",
       "        text-align: right;\n",
       "    }\n",
       "</style>\n",
       "<table border=\"1\" class=\"dataframe\">\n",
       "  <thead>\n",
       "    <tr style=\"text-align: right;\">\n",
       "      <th></th>\n",
       "      <th>siren</th>\n",
       "      <th>text</th>\n",
       "    </tr>\n",
       "  </thead>\n",
       "  <tbody>\n",
       "  </tbody>\n",
       "</table>\n",
       "</div>"
      ],
      "text/plain": [
       "Empty DataFrame\n",
       "Columns: [siren, text]\n",
       "Index: []"
      ]
     },
     "execution_count": 24,
     "metadata": {},
     "output_type": "execute_result"
    }
   ],
   "source": [
    "a[a.text.isna()]"
   ]
  },
  {
   "cell_type": "code",
   "execution_count": null,
   "metadata": {},
   "outputs": [],
   "source": []
  }
 ],
 "metadata": {
  "kernelspec": {
   "display_name": "Python 3 (ipykernel)",
   "language": "python",
   "name": "python3"
  },
  "language_info": {
   "codemirror_mode": {
    "name": "ipython",
    "version": 3
   },
   "file_extension": ".py",
   "mimetype": "text/x-python",
   "name": "python",
   "nbconvert_exporter": "python",
   "pygments_lexer": "ipython3",
   "version": "3.11.3"
  }
 },
 "nbformat": 4,
 "nbformat_minor": 2
}
