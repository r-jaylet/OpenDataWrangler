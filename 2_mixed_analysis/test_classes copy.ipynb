{
 "cells": [
  {
   "cell_type": "code",
   "execution_count": 1,
   "metadata": {},
   "outputs": [],
   "source": [
    "import pandas as pd\n",
    "import numpy as np\n",
    "import sys\n",
    "sys.path.append('c:\\\\Users\\\\RémiJAYLET\\\\OneDrive - eleven\\\\Documents\\\\GitHub\\\\CityAndYou-PublicDataUseCases\\\\utils')\n",
    "from utils_bodacc import Bodacc\n",
    "from utils_majic_locaux import Majic_locaux\n",
    "from utils_majic_parcelles import Majic_parcelles\n",
    "from utils_siren import Siren\n",
    "from utils_siret import Siret\n",
    "from utils_proprietaires_locaux import Proprietaires_locaux\n",
    "from utils_proprietaires_parcelles import Proprietaires_parcelles\n",
    "from utils_utilisateurs import Utilisateurs\n",
    "from utils_inpi import Inpi\n",
    "from utils_patrimoine import Patrimoine"
   ]
  },
  {
   "cell_type": "code",
   "execution_count": 2,
   "metadata": {},
   "outputs": [],
   "source": [
    "pd.set_option('display.max_columns', None)"
   ]
  },
  {
   "cell_type": "code",
   "execution_count": 3,
   "metadata": {},
   "outputs": [],
   "source": [
    "path = r\"C:\\Users\\RémiJAYLET\\Documents\\City&You\\0_data\""
   ]
  },
  {
   "cell_type": "code",
   "execution_count": 4,
   "metadata": {},
   "outputs": [],
   "source": [
    "inpi = Inpi(path_root=path)"
   ]
  },
  {
   "cell_type": "code",
   "execution_count": 5,
   "metadata": {},
   "outputs": [
    {
     "ename": "ValueError",
     "evalue": "Usecols do not match columns, columns expected but not found: ['prenom4UniteLegale', 'nomUniteLegale', 'prenom3UniteLegale', 'nomenclatureActivitePrincipaleUniteLegale', 'unitePurgeeUniteLegale', 'prenom2UniteLegale', 'prenomUsuelUniteLegale']",
     "output_type": "error",
     "traceback": [
      "\u001b[1;31m---------------------------------------------------------------------------\u001b[0m",
      "\u001b[1;31mValueError\u001b[0m                                Traceback (most recent call last)",
      "Cell \u001b[1;32mIn[5], line 1\u001b[0m\n\u001b[1;32m----> 1\u001b[0m patrimoine \u001b[39m=\u001b[39m Patrimoine(path_root\u001b[39m=\u001b[39;49mpath)\n",
      "File \u001b[1;32mc:\\Users\\RémiJAYLET\\OneDrive - eleven\\Documents\\GitHub\\CityAndYou-PublicDataUseCases\\utils\\utils_patrimoine.py:61\u001b[0m, in \u001b[0;36mPatrimoine.__init__\u001b[1;34m(self, path_root, folder_data)\u001b[0m\n\u001b[0;32m     58\u001b[0m \u001b[39mself\u001b[39m\u001b[39m.\u001b[39mFOLDER_DATA \u001b[39m=\u001b[39m folder_data\n\u001b[0;32m     60\u001b[0m \u001b[39mself\u001b[39m\u001b[39m.\u001b[39minpi \u001b[39m=\u001b[39m Inpi(path_root\u001b[39m=\u001b[39mpath_root, folder_data\u001b[39m=\u001b[39m\u001b[39mr\u001b[39m\u001b[39m\"\u001b[39m\u001b[39mINPI\u001b[39m\u001b[39m\"\u001b[39m)\n\u001b[1;32m---> 61\u001b[0m \u001b[39mself\u001b[39m\u001b[39m.\u001b[39msiren \u001b[39m=\u001b[39m Siren(path_root\u001b[39m=\u001b[39;49mpath_root)\n\u001b[0;32m     63\u001b[0m \u001b[39m# chargement initial des dictionnaires\u001b[39;00m\n\u001b[0;32m     64\u001b[0m \u001b[39mself\u001b[39m\u001b[39m.\u001b[39minpi_df \u001b[39m=\u001b[39m \u001b[39mself\u001b[39m\u001b[39m.\u001b[39minpi\u001b[39m.\u001b[39mget_inpi_df()\n",
      "File \u001b[1;32mc:\\Users\\RémiJAYLET\\OneDrive - eleven\\Documents\\GitHub\\CityAndYou-PublicDataUseCases\\utils\\utils_siren.py:49\u001b[0m, in \u001b[0;36mSiren.__init__\u001b[1;34m(self, path_root, folder_data)\u001b[0m\n\u001b[0;32m     46\u001b[0m \u001b[39mself\u001b[39m\u001b[39m.\u001b[39mFOLDER_DATA \u001b[39m=\u001b[39m folder_data\n\u001b[0;32m     48\u001b[0m \u001b[39m# chargement initial des dictionnaires\u001b[39;00m\n\u001b[1;32m---> 49\u001b[0m \u001b[39mself\u001b[39m\u001b[39m.\u001b[39msiren_df \u001b[39m=\u001b[39m \u001b[39mself\u001b[39;49m\u001b[39m.\u001b[39;49mload_siren_df()\n",
      "File \u001b[1;32mc:\\Users\\RémiJAYLET\\OneDrive - eleven\\Documents\\GitHub\\CityAndYou-PublicDataUseCases\\utils\\utils_siren.py:72\u001b[0m, in \u001b[0;36mSiren.load_siren_df\u001b[1;34m(self)\u001b[0m\n\u001b[0;32m     67\u001b[0m \u001b[39m# chargement données siren\u001b[39;00m\n\u001b[0;32m     68\u001b[0m columns_to_use \u001b[39m=\u001b[39m \u001b[39mset\u001b[39m([\u001b[39m'\u001b[39m\u001b[39msiren\u001b[39m\u001b[39m'\u001b[39m,\u001b[39m'\u001b[39m\u001b[39munitePurgeeUniteLegale\u001b[39m\u001b[39m'\u001b[39m, \u001b[39m'\u001b[39m\u001b[39mdateCreationUniteLegale\u001b[39m\u001b[39m'\u001b[39m,\n\u001b[0;32m     69\u001b[0m                       \u001b[39m'\u001b[39m\u001b[39mprenom1UniteLegale\u001b[39m\u001b[39m'\u001b[39m,\u001b[39m'\u001b[39m\u001b[39mprenom2UniteLegale\u001b[39m\u001b[39m'\u001b[39m,\u001b[39m'\u001b[39m\u001b[39mprenom3UniteLegale\u001b[39m\u001b[39m'\u001b[39m,\u001b[39m'\u001b[39m\u001b[39mprenom4UniteLegale\u001b[39m\u001b[39m'\u001b[39m,\u001b[39m'\u001b[39m\u001b[39mprenomUsuelUniteLegale\u001b[39m\u001b[39m'\u001b[39m, \u001b[39m'\u001b[39m\u001b[39mpseudonymeUniteLegale\u001b[39m\u001b[39m'\u001b[39m,\u001b[39m'\u001b[39m\u001b[39mnomUniteLegale\u001b[39m\u001b[39m'\u001b[39m, \u001b[39m'\u001b[39m\u001b[39mnomUsageUniteLegale\u001b[39m\u001b[39m'\u001b[39m, \u001b[39m'\u001b[39m\u001b[39mtrancheEffectifsUniteLegale\u001b[39m\u001b[39m'\u001b[39m,\n\u001b[0;32m     70\u001b[0m                       \u001b[39m'\u001b[39m\u001b[39mcategorieEntreprise\u001b[39m\u001b[39m'\u001b[39m, \u001b[39m'\u001b[39m\u001b[39metatAdministratifUniteLegale\u001b[39m\u001b[39m'\u001b[39m, \u001b[39m'\u001b[39m\u001b[39mdenominationUniteLegale\u001b[39m\u001b[39m'\u001b[39m, \u001b[39m'\u001b[39m\u001b[39mcategorieJuridiqueUniteLegale\u001b[39m\u001b[39m'\u001b[39m,\n\u001b[0;32m     71\u001b[0m                       \u001b[39m'\u001b[39m\u001b[39mactivitePrincipaleUniteLegale\u001b[39m\u001b[39m'\u001b[39m,\u001b[39m'\u001b[39m\u001b[39mnomenclatureActivitePrincipaleUniteLegale\u001b[39m\u001b[39m'\u001b[39m ,\u001b[39m'\u001b[39m\u001b[39mnicSiegeUniteLegale\u001b[39m\u001b[39m'\u001b[39m, \u001b[39m'\u001b[39m\u001b[39mdateDernierTraitementUniteLegale\u001b[39m\u001b[39m'\u001b[39m])\n\u001b[1;32m---> 72\u001b[0m siren_df \u001b[39m=\u001b[39m pd\u001b[39m.\u001b[39;49mread_csv(filepath_siren,\n\u001b[0;32m     73\u001b[0m                        usecols\u001b[39m=\u001b[39;49mcolumns_to_use,\n\u001b[0;32m     74\u001b[0m                        dtype\u001b[39m=\u001b[39;49m{\u001b[39m'\u001b[39;49m\u001b[39msiren\u001b[39;49m\u001b[39m'\u001b[39;49m: \u001b[39mstr\u001b[39;49m, \u001b[39m'\u001b[39;49m\u001b[39mtrancheEffectifsUniteLegale\u001b[39;49m\u001b[39m'\u001b[39;49m: \u001b[39mstr\u001b[39;49m},\n\u001b[0;32m     75\u001b[0m                        sep\u001b[39m=\u001b[39;49m\u001b[39m\"\u001b[39;49m\u001b[39m,\u001b[39;49m\u001b[39m\"\u001b[39;49m)\n\u001b[0;32m     77\u001b[0m \u001b[39m# Filtres\u001b[39;00m\n\u001b[0;32m     78\u001b[0m siren_df \u001b[39m=\u001b[39m siren_df[(siren_df\u001b[39m.\u001b[39munitePurgeeUniteLegale\u001b[39m.\u001b[39misna())\u001b[39m&\u001b[39m(siren_df\u001b[39m.\u001b[39metatAdministratifUniteLegale \u001b[39m==\u001b[39m \u001b[39m'\u001b[39m\u001b[39mA\u001b[39m\u001b[39m'\u001b[39m)] \u001b[39m#on onlève les unités purgées et cessées\u001b[39;00m\n",
      "File \u001b[1;32mc:\\Python311\\Lib\\site-packages\\pandas\\io\\parsers\\readers.py:912\u001b[0m, in \u001b[0;36mread_csv\u001b[1;34m(filepath_or_buffer, sep, delimiter, header, names, index_col, usecols, dtype, engine, converters, true_values, false_values, skipinitialspace, skiprows, skipfooter, nrows, na_values, keep_default_na, na_filter, verbose, skip_blank_lines, parse_dates, infer_datetime_format, keep_date_col, date_parser, date_format, dayfirst, cache_dates, iterator, chunksize, compression, thousands, decimal, lineterminator, quotechar, quoting, doublequote, escapechar, comment, encoding, encoding_errors, dialect, on_bad_lines, delim_whitespace, low_memory, memory_map, float_precision, storage_options, dtype_backend)\u001b[0m\n\u001b[0;32m    899\u001b[0m kwds_defaults \u001b[39m=\u001b[39m _refine_defaults_read(\n\u001b[0;32m    900\u001b[0m     dialect,\n\u001b[0;32m    901\u001b[0m     delimiter,\n\u001b[1;32m   (...)\u001b[0m\n\u001b[0;32m    908\u001b[0m     dtype_backend\u001b[39m=\u001b[39mdtype_backend,\n\u001b[0;32m    909\u001b[0m )\n\u001b[0;32m    910\u001b[0m kwds\u001b[39m.\u001b[39mupdate(kwds_defaults)\n\u001b[1;32m--> 912\u001b[0m \u001b[39mreturn\u001b[39;00m _read(filepath_or_buffer, kwds)\n",
      "File \u001b[1;32mc:\\Python311\\Lib\\site-packages\\pandas\\io\\parsers\\readers.py:577\u001b[0m, in \u001b[0;36m_read\u001b[1;34m(filepath_or_buffer, kwds)\u001b[0m\n\u001b[0;32m    574\u001b[0m _validate_names(kwds\u001b[39m.\u001b[39mget(\u001b[39m\"\u001b[39m\u001b[39mnames\u001b[39m\u001b[39m\"\u001b[39m, \u001b[39mNone\u001b[39;00m))\n\u001b[0;32m    576\u001b[0m \u001b[39m# Create the parser.\u001b[39;00m\n\u001b[1;32m--> 577\u001b[0m parser \u001b[39m=\u001b[39m TextFileReader(filepath_or_buffer, \u001b[39m*\u001b[39;49m\u001b[39m*\u001b[39;49mkwds)\n\u001b[0;32m    579\u001b[0m \u001b[39mif\u001b[39;00m chunksize \u001b[39mor\u001b[39;00m iterator:\n\u001b[0;32m    580\u001b[0m     \u001b[39mreturn\u001b[39;00m parser\n",
      "File \u001b[1;32mc:\\Python311\\Lib\\site-packages\\pandas\\io\\parsers\\readers.py:1407\u001b[0m, in \u001b[0;36mTextFileReader.__init__\u001b[1;34m(self, f, engine, **kwds)\u001b[0m\n\u001b[0;32m   1404\u001b[0m     \u001b[39mself\u001b[39m\u001b[39m.\u001b[39moptions[\u001b[39m\"\u001b[39m\u001b[39mhas_index_names\u001b[39m\u001b[39m\"\u001b[39m] \u001b[39m=\u001b[39m kwds[\u001b[39m\"\u001b[39m\u001b[39mhas_index_names\u001b[39m\u001b[39m\"\u001b[39m]\n\u001b[0;32m   1406\u001b[0m \u001b[39mself\u001b[39m\u001b[39m.\u001b[39mhandles: IOHandles \u001b[39m|\u001b[39m \u001b[39mNone\u001b[39;00m \u001b[39m=\u001b[39m \u001b[39mNone\u001b[39;00m\n\u001b[1;32m-> 1407\u001b[0m \u001b[39mself\u001b[39m\u001b[39m.\u001b[39m_engine \u001b[39m=\u001b[39m \u001b[39mself\u001b[39;49m\u001b[39m.\u001b[39;49m_make_engine(f, \u001b[39mself\u001b[39;49m\u001b[39m.\u001b[39;49mengine)\n",
      "File \u001b[1;32mc:\\Python311\\Lib\\site-packages\\pandas\\io\\parsers\\readers.py:1679\u001b[0m, in \u001b[0;36mTextFileReader._make_engine\u001b[1;34m(self, f, engine)\u001b[0m\n\u001b[0;32m   1676\u001b[0m     \u001b[39mraise\u001b[39;00m \u001b[39mValueError\u001b[39;00m(msg)\n\u001b[0;32m   1678\u001b[0m \u001b[39mtry\u001b[39;00m:\n\u001b[1;32m-> 1679\u001b[0m     \u001b[39mreturn\u001b[39;00m mapping[engine](f, \u001b[39m*\u001b[39;49m\u001b[39m*\u001b[39;49m\u001b[39mself\u001b[39;49m\u001b[39m.\u001b[39;49moptions)\n\u001b[0;32m   1680\u001b[0m \u001b[39mexcept\u001b[39;00m \u001b[39mException\u001b[39;00m:\n\u001b[0;32m   1681\u001b[0m     \u001b[39mif\u001b[39;00m \u001b[39mself\u001b[39m\u001b[39m.\u001b[39mhandles \u001b[39mis\u001b[39;00m \u001b[39mnot\u001b[39;00m \u001b[39mNone\u001b[39;00m:\n",
      "File \u001b[1;32mc:\\Python311\\Lib\\site-packages\\pandas\\io\\parsers\\c_parser_wrapper.py:140\u001b[0m, in \u001b[0;36mCParserWrapper.__init__\u001b[1;34m(self, src, **kwds)\u001b[0m\n\u001b[0;32m    136\u001b[0m \u001b[39massert\u001b[39;00m \u001b[39mself\u001b[39m\u001b[39m.\u001b[39morig_names \u001b[39mis\u001b[39;00m \u001b[39mnot\u001b[39;00m \u001b[39mNone\u001b[39;00m\n\u001b[0;32m    137\u001b[0m \u001b[39mif\u001b[39;00m \u001b[39mself\u001b[39m\u001b[39m.\u001b[39musecols_dtype \u001b[39m==\u001b[39m \u001b[39m\"\u001b[39m\u001b[39mstring\u001b[39m\u001b[39m\"\u001b[39m \u001b[39mand\u001b[39;00m \u001b[39mnot\u001b[39;00m \u001b[39mset\u001b[39m(usecols)\u001b[39m.\u001b[39missubset(\n\u001b[0;32m    138\u001b[0m     \u001b[39mself\u001b[39m\u001b[39m.\u001b[39morig_names\n\u001b[0;32m    139\u001b[0m ):\n\u001b[1;32m--> 140\u001b[0m     \u001b[39mself\u001b[39;49m\u001b[39m.\u001b[39;49m_validate_usecols_names(usecols, \u001b[39mself\u001b[39;49m\u001b[39m.\u001b[39;49morig_names)\n\u001b[0;32m    142\u001b[0m \u001b[39m# error: Cannot determine type of 'names'\u001b[39;00m\n\u001b[0;32m    143\u001b[0m \u001b[39mif\u001b[39;00m \u001b[39mlen\u001b[39m(\u001b[39mself\u001b[39m\u001b[39m.\u001b[39mnames) \u001b[39m>\u001b[39m \u001b[39mlen\u001b[39m(usecols):  \u001b[39m# type: ignore[has-type]\u001b[39;00m\n\u001b[0;32m    144\u001b[0m     \u001b[39m# error: Cannot determine type of 'names'\u001b[39;00m\n",
      "File \u001b[1;32mc:\\Python311\\Lib\\site-packages\\pandas\\io\\parsers\\base_parser.py:958\u001b[0m, in \u001b[0;36mParserBase._validate_usecols_names\u001b[1;34m(self, usecols, names)\u001b[0m\n\u001b[0;32m    956\u001b[0m missing \u001b[39m=\u001b[39m [c \u001b[39mfor\u001b[39;00m c \u001b[39min\u001b[39;00m usecols \u001b[39mif\u001b[39;00m c \u001b[39mnot\u001b[39;00m \u001b[39min\u001b[39;00m names]\n\u001b[0;32m    957\u001b[0m \u001b[39mif\u001b[39;00m \u001b[39mlen\u001b[39m(missing) \u001b[39m>\u001b[39m \u001b[39m0\u001b[39m:\n\u001b[1;32m--> 958\u001b[0m     \u001b[39mraise\u001b[39;00m \u001b[39mValueError\u001b[39;00m(\n\u001b[0;32m    959\u001b[0m         \u001b[39mf\u001b[39m\u001b[39m\"\u001b[39m\u001b[39mUsecols do not match columns, columns expected but not found: \u001b[39m\u001b[39m\"\u001b[39m\n\u001b[0;32m    960\u001b[0m         \u001b[39mf\u001b[39m\u001b[39m\"\u001b[39m\u001b[39m{\u001b[39;00mmissing\u001b[39m}\u001b[39;00m\u001b[39m\"\u001b[39m\n\u001b[0;32m    961\u001b[0m     )\n\u001b[0;32m    963\u001b[0m \u001b[39mreturn\u001b[39;00m usecols\n",
      "\u001b[1;31mValueError\u001b[0m: Usecols do not match columns, columns expected but not found: ['prenom4UniteLegale', 'nomUniteLegale', 'prenom3UniteLegale', 'nomenclatureActivitePrincipaleUniteLegale', 'unitePurgeeUniteLegale', 'prenom2UniteLegale', 'prenomUsuelUniteLegale']"
     ]
    }
   ],
   "source": [
    "patrimoine = Patrimoine(path_root=path)"
   ]
  },
  {
   "cell_type": "code",
   "execution_count": 3,
   "metadata": {},
   "outputs": [
    {
     "name": "stderr",
     "output_type": "stream",
     "text": [
      "c:\\Users\\AichaBOUJANDAR\\OneDrive - eleven\\Bureau\\CityAndYou-PublicDataUseCases\\analysis\\../utils\\utils_siret.py:73: DtypeWarning: Columns (3,7,11,13) have mixed types. Specify dtype option on import or set low_memory=False.\n",
      "  siret_df = pd.read_csv(filepath_siret,\n"
     ]
    }
   ],
   "source": [
    "siret = Siret(path_root=path)"
   ]
  },
  {
   "cell_type": "code",
   "execution_count": 4,
   "metadata": {},
   "outputs": [
    {
     "name": "stderr",
     "output_type": "stream",
     "text": [
      "c:\\Users\\AichaBOUJANDAR\\OneDrive - eleven\\Bureau\\CityAndYou-PublicDataUseCases\\analysis\\../utils\\utils_siren.py:72: DtypeWarning: Columns (2,7,9,12) have mixed types. Specify dtype option on import or set low_memory=False.\n",
      "  siren_df = pd.read_csv(filepath_siren,\n"
     ]
    }
   ],
   "source": [
    "siren = Siren(path_root=r\"C:\\Users\\AichaBOUJANDAR\\OneDrive - eleven\\Bureau\\City&You\\3_InputsEleven\")"
   ]
  },
  {
   "cell_type": "code",
   "execution_count": 5,
   "metadata": {},
   "outputs": [],
   "source": [
    "locaux = Majic_locaux()"
   ]
  },
  {
   "cell_type": "code",
   "execution_count": 8,
   "metadata": {},
   "outputs": [
    {
     "name": "stderr",
     "output_type": "stream",
     "text": [
      "C:\\Users\\AichaBOUJANDAR\\AppData\\Local\\Temp\\ipykernel_22600\\2005357178.py:1: DtypeWarning: Columns (2,4,10,16,21,22,23,25) have mixed types. Specify dtype option on import or set low_memory=False.\n",
      "  list_siren = pd.read_csv(r\"C:\\Users\\AichaBOUJANDAR\\OneDrive - eleven\\Bureau\\City&You\\3_InputsEleven\\MAJIC\\locaux_selected.csv\", sep=',', encoding='utf-8-sig',dtype={'siren' : str})\n"
     ]
    },
    {
     "name": "stdout",
     "output_type": "stream",
     "text": [
      "5519048\n"
     ]
    }
   ],
   "source": [
    "list_siren = pd.read_csv(r\"C:\\Users\\AichaBOUJANDAR\\OneDrive - eleven\\Bureau\\City&You\\3_InputsEleven\\MAJIC\\locaux_selected.csv\", sep=',', encoding='utf-8-sig',dtype={'siren' : str})\n",
    "print(len(list_siren))\n",
    "list_siren = list_siren.sirenProprietaireLocal.unique()"
   ]
  },
  {
   "cell_type": "code",
   "execution_count": 10,
   "metadata": {},
   "outputs": [
    {
     "name": "stdout",
     "output_type": "stream",
     "text": [
      "5208908\n"
     ]
    }
   ],
   "source": [
    "locaux2 = locaux.locaux_df[(locaux.locaux_df.codeDepartementParcelle == '75')|(locaux.locaux_df.sirenProprietaireLocal.isin(list_siren))]\n",
    "print(len(locaux2))"
   ]
  },
  {
   "cell_type": "code",
   "execution_count": 12,
   "metadata": {},
   "outputs": [],
   "source": [
    "del locaux"
   ]
  },
  {
   "cell_type": "code",
   "execution_count": 6,
   "metadata": {},
   "outputs": [],
   "source": [
    "parcelles = Majic_parcelles()"
   ]
  },
  {
   "cell_type": "code",
   "execution_count": null,
   "metadata": {},
   "outputs": [],
   "source": [
    "list_siren = pd.read_csv(r\"C:\\Users\\AichaBOUJANDAR\\OneDrive - eleven\\Bureau\\City&You\\3_InputsEleven\\MAJIC\\parcelles_selected.csv\", sep=',', encoding='utf-8-sig',dtype={'siren' : str})\n",
    "print(len(list_siren))\n"
   ]
  },
  {
   "cell_type": "code",
   "execution_count": 14,
   "metadata": {},
   "outputs": [],
   "source": [
    "list_siren = list_siren.sirenProprietaireSuf.unique()"
   ]
  },
  {
   "cell_type": "code",
   "execution_count": 16,
   "metadata": {},
   "outputs": [
    {
     "name": "stdout",
     "output_type": "stream",
     "text": [
      "1870841\n"
     ]
    }
   ],
   "source": [
    "parcelles2 = parcelles.parcelles_df[(parcelles.parcelles_df.codeDepartementParcelle == '75')|(parcelles.parcelles_df.sirenProprietaireSuf.isin(list_siren))]\n",
    "print(len(parcelles2))"
   ]
  },
  {
   "cell_type": "code",
   "execution_count": 17,
   "metadata": {},
   "outputs": [],
   "source": [
    "parcelles2.to_csv(r\"C:\\Users\\AichaBOUJANDAR\\OneDrive - eleven\\Bureau\\City&You\\3_InputsEleven\\MAJIC\\parcelles_selected.csv\", sep=',', encoding='utf-8-sig')"
   ]
  },
  {
   "cell_type": "code",
   "execution_count": 18,
   "metadata": {},
   "outputs": [],
   "source": [
    "del parcelles"
   ]
  },
  {
   "cell_type": "code",
   "execution_count": 2,
   "metadata": {},
   "outputs": [
    {
     "name": "stderr",
     "output_type": "stream",
     "text": [
      "c:\\Users\\AichaBOUJANDAR\\OneDrive - eleven\\Bureau\\CityAndYou-PublicDataUseCases\\analysis\\../utils\\utils_bodacc.py:342: SettingWithCopyWarning: \n",
      "A value is trying to be set on a copy of a slice from a DataFrame.\n",
      "Try using .loc[row_indexer,col_indexer] = value instead\n",
      "\n",
      "See the caveats in the documentation: https://pandas.pydata.org/pandas-docs/stable/user_guide/indexing.html#returning-a-view-versus-a-copy\n",
      "  bodacc_df['registre'] = bodacc_df['registre'].astype(str)\n",
      "c:\\Users\\AichaBOUJANDAR\\OneDrive - eleven\\Bureau\\CityAndYou-PublicDataUseCases\\analysis\\../utils\\utils_bodacc.py:343: SettingWithCopyWarning: \n",
      "A value is trying to be set on a copy of a slice from a DataFrame.\n",
      "Try using .loc[row_indexer,col_indexer] = value instead\n",
      "\n",
      "See the caveats in the documentation: https://pandas.pydata.org/pandas-docs/stable/user_guide/indexing.html#returning-a-view-versus-a-copy\n",
      "  bodacc_df['registre'] = bodacc_df['registre'].apply(lambda x : x.replace('000 000 000,000000000,', ''))\n",
      "c:\\Users\\AichaBOUJANDAR\\OneDrive - eleven\\Bureau\\CityAndYou-PublicDataUseCases\\analysis\\../utils\\utils_bodacc.py:414: SettingWithCopyWarning: \n",
      "A value is trying to be set on a copy of a slice from a DataFrame.\n",
      "Try using .loc[row_indexer,col_indexer] = value instead\n",
      "\n",
      "See the caveats in the documentation: https://pandas.pydata.org/pandas-docs/stable/user_guide/indexing.html#returning-a-view-versus-a-copy\n",
      "  bodacc_df['registre'] = bodacc_df['registre'].astype(str)\n",
      "c:\\Users\\AichaBOUJANDAR\\OneDrive - eleven\\Bureau\\CityAndYou-PublicDataUseCases\\analysis\\../utils\\utils_bodacc.py:415: SettingWithCopyWarning: \n",
      "A value is trying to be set on a copy of a slice from a DataFrame.\n",
      "Try using .loc[row_indexer,col_indexer] = value instead\n",
      "\n",
      "See the caveats in the documentation: https://pandas.pydata.org/pandas-docs/stable/user_guide/indexing.html#returning-a-view-versus-a-copy\n",
      "  bodacc_df['registre'] = bodacc_df['registre'].apply(lambda x : x.replace('000 000 000,000000000,', ''))\n"
     ]
    }
   ],
   "source": [
    "bodacc = Bodacc()"
   ]
  },
  {
   "cell_type": "code",
   "execution_count": 3,
   "metadata": {},
   "outputs": [],
   "source": [
    "bodacc.bodacc_df.to_csv(r\"C:\\Users\\AichaBOUJANDAR\\OneDrive - eleven\\Bureau\\City&You\\3_InputsEleven\\BODACC\\bodacc_exemple.csv\", sep=',', encoding='utf-8-sig')"
   ]
  },
  {
   "cell_type": "code",
   "execution_count": 4,
   "metadata": {},
   "outputs": [
    {
     "name": "stderr",
     "output_type": "stream",
     "text": [
      "c:\\Users\\AichaBOUJANDAR\\OneDrive - eleven\\Bureau\\CityAndYou-PublicDataUseCases\\analysis\\../utils\\utils_siren.py:72: DtypeWarning: Columns (2,7,9,12) have mixed types. Specify dtype option on import or set low_memory=False.\n",
      "  siren_df = pd.read_csv(filepath_siren,\n"
     ]
    }
   ],
   "source": [
    "p_locaux = Proprietaires_locaux()"
   ]
  },
  {
   "cell_type": "code",
   "execution_count": 6,
   "metadata": {},
   "outputs": [],
   "source": [
    "p_locaux.proprietaires_locaux_df.to_csv(r\"C:\\Users\\AichaBOUJANDAR\\OneDrive - eleven\\Bureau\\City&You\\3_InputsEleven\\BODACC\\proprietaires_locaux_exemple.csv\", sep=',', encoding='utf-8-sig')"
   ]
  },
  {
   "cell_type": "code",
   "execution_count": 2,
   "metadata": {},
   "outputs": [
    {
     "name": "stderr",
     "output_type": "stream",
     "text": [
      "c:\\Users\\AichaBOUJANDAR\\OneDrive - eleven\\Bureau\\CityAndYou-PublicDataUseCases\\analysis\\../utils\\utils_siren.py:72: DtypeWarning: Columns (2,7,9,12) have mixed types. Specify dtype option on import or set low_memory=False.\n",
      "  siren_df = pd.read_csv(filepath_siren,\n"
     ]
    }
   ],
   "source": [
    "p_parcelles = Proprietaires_parcelles()"
   ]
  },
  {
   "cell_type": "code",
   "execution_count": 3,
   "metadata": {},
   "outputs": [],
   "source": [
    "p_parcelles.proprietaires_parcelles_df.to_csv(r\"C:\\Users\\AichaBOUJANDAR\\OneDrive - eleven\\Bureau\\City&You\\3_InputsEleven\\BODACC\\proprietaires_parcelles_exemple.csv\", sep=',', encoding='utf-8-sig')"
   ]
  },
  {
   "cell_type": "code",
   "execution_count": 2,
   "metadata": {},
   "outputs": [
    {
     "name": "stderr",
     "output_type": "stream",
     "text": [
      "c:\\Users\\AichaBOUJANDAR\\OneDrive - eleven\\Bureau\\CityAndYou-PublicDataUseCases\\analysis\\../utils\\utils_siren.py:72: DtypeWarning: Columns (2,7,9,12) have mixed types. Specify dtype option on import or set low_memory=False.\n",
      "  siren_df = pd.read_csv(filepath_siren,\n",
      "c:\\Users\\AichaBOUJANDAR\\OneDrive - eleven\\Bureau\\CityAndYou-PublicDataUseCases\\analysis\\../utils\\utils_siret.py:73: DtypeWarning: Columns (3,7,11,13) have mixed types. Specify dtype option on import or set low_memory=False.\n",
      "  siret_df = pd.read_csv(filepath_siret,\n"
     ]
    }
   ],
   "source": [
    "util = Utilisateurs()"
   ]
  },
  {
   "cell_type": "code",
   "execution_count": 3,
   "metadata": {},
   "outputs": [],
   "source": [
    "util.utilisateurs_df.to_csv(r\"C:\\Users\\AichaBOUJANDAR\\OneDrive - eleven\\Bureau\\City&You\\3_InputsEleven\\SIRENE\\utilisateurs_exemple.csv\", sep=',', encoding='utf-8-sig')"
   ]
  }
 ],
 "metadata": {
  "kernelspec": {
   "display_name": "Python 3",
   "language": "python",
   "name": "python3"
  },
  "language_info": {
   "codemirror_mode": {
    "name": "ipython",
    "version": 3
   },
   "file_extension": ".py",
   "mimetype": "text/x-python",
   "name": "python",
   "nbconvert_exporter": "python",
   "pygments_lexer": "ipython3",
   "version": "3.11.3"
  },
  "orig_nbformat": 4
 },
 "nbformat": 4,
 "nbformat_minor": 2
}
